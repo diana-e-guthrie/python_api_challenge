{
 "cells": [
  {
   "cell_type": "markdown",
   "metadata": {},
   "source": [
    "# WeatherPy\n",
    "----\n",
    "\n",
    "#### Note\n",
    "* Instructions have been included for each segment. You do not have to follow them exactly, but they are included to help you think through the steps."
   ]
  },
  {
   "cell_type": "code",
   "execution_count": 15,
   "metadata": {
    "scrolled": true
   },
   "outputs": [],
   "source": [
    "# Dependencies and Setup\n",
    "import matplotlib.pyplot as plt\n",
    "import pandas as pd\n",
    "import numpy as np\n",
    "import requests\n",
    "import time\n",
    "import scipy.stats as st\n",
    "from scipy.stats import linregress\n",
    "from pprint import pprint\n",
    "# Import API key\n",
    "from api_keys import weather_api_key\n",
    "\n",
    "# Incorporated citipy to determine city based on latitude and longitude\n",
    "from citipy import citipy\n",
    "\n",
    "# Output File (CSV)\n",
    "output_data_file = \"output_data/cities.csv\"\n",
    "\n",
    "# Range of latitudes and longitudes\n",
    "lat_range = (-90, 90)\n",
    "lng_range = (-180, 180)"
   ]
  },
  {
   "cell_type": "markdown",
   "metadata": {},
   "source": [
    "## Generate Cities List"
   ]
  },
  {
   "cell_type": "code",
   "execution_count": 8,
   "metadata": {},
   "outputs": [
    {
     "data": {
      "text/plain": [
       "581"
      ]
     },
     "execution_count": 8,
     "metadata": {},
     "output_type": "execute_result"
    }
   ],
   "source": [
    "# List for holding lat_lngs and cities\n",
    "lat_lngs = []\n",
    "cities = []\n",
    "\n",
    "# Create a set of random lat and lng combinations\n",
    "lats = np.random.uniform(low=-90.000, high=90.000, size=1500)\n",
    "lngs = np.random.uniform(low=-180.000, high=180.000, size=1500)\n",
    "lat_lngs = zip(lats, lngs)\n",
    "\n",
    "# Identify nearest city for each lat, lng combination\n",
    "for lat_lng in lat_lngs:\n",
    "    city = citipy.nearest_city(lat_lng[0], lat_lng[1]).city_name\n",
    "    \n",
    "    # If the city is unique, then add it to a our cities list\n",
    "    if city not in cities:\n",
    "        cities.append(city)\n",
    "\n",
    "# Print the city count to confirm sufficient count\n",
    "len(cities)"
   ]
  },
  {
   "cell_type": "code",
   "execution_count": 4,
   "metadata": {},
   "outputs": [
    {
     "name": "stdout",
     "output_type": "stream",
     "text": [
      "{'base': 'stations',\n",
      " 'clouds': {'all': 49},\n",
      " 'cod': 200,\n",
      " 'coord': {'lat': 39.74, 'lon': -104.98},\n",
      " 'dt': 1579970638,\n",
      " 'id': 5419384,\n",
      " 'main': {'feels_like': 36.88,\n",
      "          'humidity': 48,\n",
      "          'pressure': 1016,\n",
      "          'temp': 42.06,\n",
      "          'temp_max': 46.99,\n",
      "          'temp_min': 30.99},\n",
      " 'name': 'Denver',\n",
      " 'sys': {'country': 'US',\n",
      "         'id': 2010438,\n",
      "         'sunrise': 1579961633,\n",
      "         'sunset': 1579997409,\n",
      "         'type': 3},\n",
      " 'timezone': -25200,\n",
      " 'weather': [{'description': 'scattered clouds',\n",
      "              'icon': '03d',\n",
      "              'id': 802,\n",
      "              'main': 'Clouds'}],\n",
      " 'wind': {'deg': 59, 'gust': 3, 'speed': 1.01}}\n"
     ]
    }
   ],
   "source": [
    "city = \"Denver\"\n",
    "url = \"http://api.openweathermap.org/data/2.5/weather?\"\n",
    "target_url = f\"{url}appid={weather_api_key}&q={city}&units=imperial\"\n",
    "response = requests.get(target_url).json()\n",
    "pprint(response)"
   ]
  },
  {
   "cell_type": "markdown",
   "metadata": {},
   "source": [
    "### Perform API Calls\n",
    "* Perform a weather check on each city using a series of successive API calls.\n",
    "* Include a print log of each city as it'sbeing processed (with the city number and city name).\n"
   ]
  },
  {
   "cell_type": "code",
   "execution_count": 54,
   "metadata": {},
   "outputs": [
    {
     "name": "stdout",
     "output_type": "stream",
     "text": [
      "city number: 1, city name: egvekinot\n",
      "city number: 2, city name: san patricio\n",
      "city number: 3, city name: busselton\n",
      "city number: 4, city name: punta arenas\n",
      "city number: 5, city name: kishtwar\n",
      "city number: 6, city name: carnarvon\n",
      "city number: 7, city name: ugoofaaru\n",
      "city number: 8, city name: new norfolk\n",
      "city number: 9, city name: marion\n",
      "city number: 10, city name: kavaratti\n",
      "city not found\n",
      "city number: 11, city name: ahipara\n",
      "city number: 12, city name: ribeira grande\n",
      "city number: 13, city name: mataura\n",
      "city number: 14, city name: saskylakh\n",
      "city number: 15, city name: yellowknife\n",
      "city number: 16, city name: atuona\n",
      "city number: 17, city name: rikitea\n",
      "city number: 18, city name: cape town\n",
      "city number: 19, city name: itamarandiba\n",
      "city number: 20, city name: viedma\n",
      "city number: 21, city name: deputatskiy\n",
      "city number: 22, city name: port elizabeth\n",
      "city number: 23, city name: misratah\n",
      "city not found\n",
      "city not found\n",
      "city number: 24, city name: punta cardon\n",
      "city number: 25, city name: saldanha\n",
      "city number: 26, city name: carepa\n",
      "city number: 27, city name: vanimo\n",
      "city number: 28, city name: narsaq\n",
      "city not found\n",
      "city number: 29, city name: takoradi\n",
      "city number: 30, city name: klaksvik\n",
      "city not found\n",
      "city number: 31, city name: ushuaia\n",
      "city number: 32, city name: saint-philippe\n",
      "city number: 33, city name: butaritari\n",
      "city number: 34, city name: cabo san lucas\n",
      "city number: 35, city name: albany\n",
      "city number: 36, city name: hobart\n",
      "city number: 37, city name: vardo\n",
      "city number: 38, city name: thompson\n",
      "city number: 39, city name: qaanaaq\n",
      "city number: 40, city name: kirakira\n",
      "city number: 41, city name: alyangula\n",
      "city number: 42, city name: aljezur\n",
      "city number: 43, city name: bethel\n",
      "city number: 44, city name: sicuani\n",
      "city number: 45, city name: zhoucheng\n",
      "city number: 46, city name: faanui\n",
      "city number: 47, city name: oyama\n",
      "city number: 48, city name: port alfred\n",
      "city number: 49, city name: port hedland\n",
      "city number: 50, city name: castro\n",
      "city number: 51, city name: tautira\n",
      "city number: 52, city name: la ronge\n",
      "city number: 53, city name: dali\n",
      "city number: 54, city name: kasumkent\n",
      "city number: 55, city name: flinders\n",
      "city number: 56, city name: rawson\n",
      "city not found\n",
      "city not found\n",
      "city number: 57, city name: ndjole\n",
      "city not found\n",
      "city number: 58, city name: boguchany\n",
      "city number: 59, city name: fare\n",
      "city number: 60, city name: talnakh\n",
      "city number: 61, city name: ulladulla\n",
      "city number: 62, city name: ballina\n",
      "city number: 63, city name: chokurdakh\n",
      "city number: 64, city name: souillac\n",
      "city number: 65, city name: peniche\n",
      "city not found\n",
      "city number: 66, city name: upernavik\n",
      "city number: 67, city name: nishihara\n",
      "city number: 68, city name: avarua\n",
      "city number: 69, city name: henties bay\n",
      "city number: 70, city name: fortuna\n",
      "city number: 71, city name: deer lake\n",
      "city number: 72, city name: mahebourg\n",
      "city number: 73, city name: algeciras\n",
      "city number: 74, city name: bayir\n",
      "city number: 75, city name: farim\n",
      "city number: 76, city name: hithadhoo\n",
      "city number: 77, city name: mayumba\n",
      "city number: 78, city name: surt\n",
      "city number: 79, city name: esmeraldas\n",
      "city number: 80, city name: bredasdorp\n",
      "city number: 81, city name: horta\n",
      "city not found\n",
      "city number: 82, city name: zangakatun\n",
      "city number: 83, city name: dikson\n",
      "city number: 84, city name: stawell\n",
      "city number: 85, city name: itarema\n",
      "city number: 86, city name: kodiak\n",
      "city number: 87, city name: kapaa\n",
      "city number: 88, city name: anadyr\n",
      "city number: 89, city name: bluff\n",
      "city number: 90, city name: yei\n",
      "city number: 91, city name: arraial do cabo\n",
      "city number: 92, city name: puerto ayora\n",
      "city number: 93, city name: coos bay\n",
      "city number: 94, city name: jamestown\n",
      "city number: 95, city name: saint-georges\n",
      "city number: 96, city name: piranshahr\n",
      "city number: 97, city name: cayenne\n",
      "city number: 98, city name: namibe\n",
      "city number: 99, city name: kermanshah\n",
      "city number: 100, city name: khatanga\n",
      "city number: 101, city name: jardim\n",
      "city number: 102, city name: naze\n",
      "city number: 103, city name: hualmay\n",
      "city number: 104, city name: alice springs\n",
      "city number: 105, city name: hermanus\n",
      "city number: 106, city name: tual\n",
      "city number: 107, city name: ponta do sol\n",
      "city number: 108, city name: marsa matruh\n",
      "city number: 109, city name: tasiilaq\n",
      "city number: 110, city name: harer\n",
      "city number: 111, city name: plettenberg bay\n",
      "city not found\n",
      "city number: 112, city name: aksu\n",
      "city number: 113, city name: zhanaozen\n",
      "city number: 114, city name: lebyazhye\n",
      "city number: 115, city name: mukdahan\n",
      "city number: 116, city name: pahrump\n",
      "city number: 117, city name: mogadishu\n",
      "city number: 118, city name: yar-sale\n",
      "city number: 119, city name: mar del plata\n",
      "city number: 120, city name: vysokogornyy\n",
      "city number: 121, city name: kabo\n",
      "city number: 122, city name: burnie\n",
      "city number: 123, city name: yerbogachen\n",
      "city number: 124, city name: severo-kurilsk\n",
      "city number: 125, city name: bogorodskoye\n",
      "city number: 126, city name: cidreira\n",
      "city number: 127, city name: kutum\n",
      "city number: 128, city name: brownfield\n",
      "city number: 129, city name: vaini\n",
      "city number: 130, city name: tiksi\n",
      "city number: 131, city name: iqaluit\n",
      "city number: 132, city name: ahuimanu\n",
      "city number: 133, city name: vitoria do mearim\n",
      "city number: 134, city name: la rioja\n",
      "city number: 135, city name: jasidih\n",
      "city not found\n",
      "city number: 136, city name: camacha\n",
      "city number: 137, city name: udachnyy\n",
      "city number: 138, city name: cianorte\n",
      "city number: 139, city name: mantua\n",
      "city number: 140, city name: vostok\n",
      "city not found\n",
      "city number: 141, city name: esperance\n",
      "city number: 142, city name: sitka\n",
      "city number: 143, city name: hilo\n",
      "city number: 144, city name: gloucester\n",
      "city number: 145, city name: tura\n",
      "city number: 146, city name: coquimbo\n",
      "city number: 147, city name: silver city\n",
      "city number: 148, city name: kahului\n",
      "city number: 149, city name: chapayevka\n",
      "city number: 150, city name: mopipi\n",
      "city number: 151, city name: gobo\n",
      "city number: 152, city name: pevek\n",
      "city number: 153, city name: cockburn town\n",
      "city number: 154, city name: bolobo\n",
      "city number: 155, city name: georgetown\n",
      "city not found\n",
      "city number: 156, city name: prince rupert\n",
      "city number: 157, city name: charagua\n",
      "city number: 158, city name: caravelas\n",
      "city number: 159, city name: coahuayana\n",
      "city number: 160, city name: galveston\n",
      "city number: 161, city name: lagoa\n",
      "city number: 162, city name: marienburg\n",
      "city number: 163, city name: gogrial\n",
      "city number: 164, city name: pangnirtung\n",
      "city number: 165, city name: padang\n",
      "city number: 166, city name: provideniya\n",
      "city number: 167, city name: puerto palomas\n",
      "city not found\n",
      "city number: 168, city name: san cristobal\n",
      "city number: 169, city name: noyabrsk\n",
      "city number: 170, city name: oranjemund\n",
      "city number: 171, city name: bengkulu\n",
      "city number: 172, city name: nouadhibou\n",
      "city number: 173, city name: mobaye\n",
      "city number: 174, city name: general pico\n",
      "city number: 175, city name: beira\n",
      "city number: 176, city name: petropavlovsk-kamchatskiy\n",
      "city number: 177, city name: griffith\n",
      "city number: 178, city name: barrow\n",
      "city number: 179, city name: kaitangata\n",
      "city number: 180, city name: mareeba\n",
      "city number: 181, city name: mahajanga\n",
      "city number: 182, city name: vidalia\n",
      "city number: 183, city name: tolaga bay\n",
      "city number: 184, city name: djambala\n",
      "city number: 185, city name: salalah\n",
      "city number: 186, city name: fairbanks\n",
      "city not found\n",
      "city number: 187, city name: cherskiy\n",
      "city number: 188, city name: okhotsk\n",
      "city number: 189, city name: bandar-e lengeh\n",
      "city number: 190, city name: saint anthony\n",
      "city number: 191, city name: bambanglipuro\n",
      "city number: 192, city name: praia da vitoria\n",
      "city number: 193, city name: njombe\n",
      "city not found\n",
      "city number: 194, city name: tonj\n",
      "city number: 195, city name: chuy\n",
      "city number: 196, city name: gushikawa\n",
      "city number: 197, city name: mount isa\n",
      "city number: 198, city name: lerwick\n",
      "city number: 199, city name: sao simao\n",
      "city number: 200, city name: poum\n",
      "city number: 201, city name: lotofaga\n",
      "city number: 202, city name: hasaki\n",
      "city number: 203, city name: kruisfontein\n",
      "city number: 204, city name: saint-augustin\n",
      "city number: 205, city name: ventersburg\n",
      "city number: 206, city name: vao\n",
      "city number: 207, city name: vasilsursk\n",
      "city number: 208, city name: bilibino\n",
      "city number: 209, city name: ketchikan\n",
      "city number: 210, city name: saint-pierre\n",
      "city number: 211, city name: dingle\n"
     ]
    },
    {
     "name": "stdout",
     "output_type": "stream",
     "text": [
      "city number: 212, city name: lebu\n",
      "city number: 213, city name: kangaatsiaq\n",
      "city number: 214, city name: mokrousovo\n",
      "city not found\n",
      "city number: 215, city name: fereydun kenar\n",
      "city number: 216, city name: tucupita\n",
      "city number: 217, city name: mahina\n",
      "city number: 218, city name: port lincoln\n",
      "city number: 219, city name: zhigansk\n",
      "city number: 220, city name: haines junction\n",
      "city number: 221, city name: bonavista\n",
      "city not found\n",
      "city number: 222, city name: solenzo\n",
      "city number: 223, city name: wabana\n",
      "city number: 224, city name: nantucket\n",
      "city number: 225, city name: obidos\n",
      "city number: 226, city name: norman wells\n",
      "city not found\n",
      "city number: 227, city name: guane\n",
      "city number: 228, city name: spokane\n",
      "city number: 229, city name: codrington\n",
      "city number: 230, city name: guerrero negro\n",
      "city number: 231, city name: east london\n",
      "city number: 232, city name: bunia\n",
      "city number: 233, city name: shubarkuduk\n",
      "city number: 234, city name: chihuahua\n",
      "city number: 235, city name: nuuk\n",
      "city number: 236, city name: port blair\n",
      "city number: 237, city name: evensk\n",
      "city number: 238, city name: montego bay\n",
      "city number: 239, city name: katsuura\n",
      "city number: 240, city name: nanortalik\n",
      "city number: 241, city name: los llanos de aridane\n",
      "city not found\n",
      "city number: 242, city name: saint george\n",
      "city number: 243, city name: kavieng\n",
      "city number: 244, city name: neuquen\n",
      "city number: 245, city name: lavrentiya\n",
      "city number: 246, city name: impfondo\n",
      "city number: 247, city name: tuktoyaktuk\n",
      "city number: 248, city name: broken hill\n",
      "city number: 249, city name: bambous virieux\n",
      "city number: 250, city name: santa maria\n",
      "city number: 251, city name: manaure\n",
      "city number: 252, city name: dongying\n",
      "city number: 253, city name: broome\n",
      "city number: 254, city name: kamaishi\n",
      "city number: 255, city name: comodoro rivadavia\n",
      "city number: 256, city name: matamoros\n",
      "city number: 257, city name: shaoxing\n",
      "city number: 258, city name: lisala\n",
      "city number: 259, city name: vaitape\n",
      "city number: 260, city name: ampanihy\n",
      "city number: 261, city name: teeli\n",
      "city not found\n",
      "city number: 262, city name: saryozek\n",
      "city number: 263, city name: praia\n",
      "city number: 264, city name: fort nelson\n",
      "city number: 265, city name: carutapera\n",
      "city number: 266, city name: port-gentil\n",
      "city number: 267, city name: adrar\n",
      "city number: 268, city name: labrea\n",
      "city number: 269, city name: havre-saint-pierre\n",
      "city number: 270, city name: mount gambier\n",
      "city number: 271, city name: shilka\n",
      "city number: 272, city name: hobyo\n",
      "city number: 273, city name: ossora\n",
      "city not found\n",
      "city number: 274, city name: aasiaat\n",
      "city number: 275, city name: airai\n",
      "city number: 276, city name: henderson\n",
      "city number: 277, city name: necochea\n",
      "city number: 278, city name: inhambane\n",
      "city number: 279, city name: torbay\n",
      "city number: 280, city name: palmer\n",
      "city number: 281, city name: puerto el triunfo\n",
      "city number: 282, city name: lompoc\n",
      "city number: 283, city name: tuatapere\n",
      "city number: 284, city name: victoria\n",
      "city number: 285, city name: khandyga\n",
      "city number: 286, city name: papara\n",
      "city number: 287, city name: garden city\n",
      "city number: 288, city name: madang\n",
      "city number: 289, city name: boa vista\n",
      "city number: 290, city name: clearwater\n",
      "city number: 291, city name: vila velha\n",
      "city not found\n",
      "city number: 292, city name: magistralnyy\n",
      "city number: 293, city name: opuwo\n",
      "city number: 294, city name: luderitz\n",
      "city number: 295, city name: tevaitoa\n",
      "city number: 296, city name: chapais\n",
      "city number: 297, city name: chiredzi\n",
      "city number: 298, city name: lexington\n",
      "city number: 299, city name: bubaque\n",
      "city number: 300, city name: carlsbad\n",
      "city number: 301, city name: kunming\n",
      "city number: 302, city name: beyneu\n",
      "city number: 303, city name: toguchin\n",
      "city number: 304, city name: darhan\n",
      "city number: 305, city name: asau\n",
      "city number: 306, city name: izumo\n",
      "city number: 307, city name: chifeng\n",
      "city number: 308, city name: margate\n",
      "city number: 309, city name: el alto\n",
      "city number: 310, city name: san andres\n",
      "city not found\n",
      "city number: 311, city name: liberal\n",
      "city number: 312, city name: sasebo\n",
      "city number: 313, city name: touros\n",
      "city not found\n",
      "city number: 314, city name: tiarei\n",
      "city number: 315, city name: yang talat\n",
      "city number: 316, city name: lucea\n",
      "city number: 317, city name: paita\n",
      "city number: 318, city name: nikolskoye\n",
      "city number: 319, city name: jutai\n",
      "city not found\n",
      "city number: 320, city name: sao filipe\n",
      "city number: 321, city name: grindavik\n",
      "city number: 322, city name: kamenka\n",
      "city number: 323, city name: banda aceh\n",
      "city number: 324, city name: caceres\n",
      "city number: 325, city name: brownsville\n",
      "city number: 326, city name: sena madureira\n",
      "city number: 327, city name: roebourne\n",
      "city number: 328, city name: altagracia de orituco\n",
      "city number: 329, city name: kushmurun\n",
      "city number: 330, city name: san lawrenz\n",
      "city number: 331, city name: skjervoy\n",
      "city number: 332, city name: guanare\n",
      "city number: 333, city name: hailey\n",
      "city number: 334, city name: safford\n",
      "city number: 335, city name: urubamba\n",
      "city number: 336, city name: uddevalla\n",
      "city number: 337, city name: kanniyakumari\n",
      "city number: 338, city name: manali\n",
      "city number: 339, city name: hastings\n",
      "city number: 340, city name: walvis bay\n",
      "city number: 341, city name: diu\n",
      "city number: 342, city name: yeppoon\n",
      "city number: 343, city name: qasigiannguit\n",
      "city number: 344, city name: alexandria\n",
      "city number: 345, city name: sakaiminato\n",
      "city number: 346, city name: khvorostyanka\n",
      "city not found\n",
      "city number: 347, city name: te anau\n",
      "city number: 348, city name: glace bay\n",
      "city number: 349, city name: sorland\n",
      "city number: 350, city name: bafq\n",
      "city number: 351, city name: goderich\n",
      "city number: 352, city name: ndele\n",
      "city number: 353, city name: mosetse\n",
      "city number: 354, city name: ancud\n",
      "city not found\n",
      "city number: 355, city name: valladolid\n",
      "city number: 356, city name: sabang\n",
      "city number: 357, city name: acapulco\n",
      "city number: 358, city name: half moon bay\n",
      "city not found\n",
      "city number: 359, city name: ayagoz\n",
      "city number: 360, city name: luba\n",
      "city not found\n",
      "city number: 361, city name: san quintin\n",
      "city number: 362, city name: hirara\n",
      "city number: 363, city name: sao joao da barra\n",
      "city number: 364, city name: rio gallegos\n",
      "city number: 365, city name: marawi\n",
      "city not found\n",
      "city number: 366, city name: springbok\n",
      "city number: 367, city name: matao\n",
      "city number: 368, city name: genhe\n",
      "city number: 369, city name: samana\n",
      "city number: 370, city name: west bay\n",
      "city number: 371, city name: richards bay\n",
      "city number: 372, city name: mabaruma\n",
      "city number: 373, city name: benemerito de las americas\n",
      "city number: 374, city name: oktyabrskiy\n",
      "city number: 375, city name: natal\n",
      "city number: 376, city name: ostrovnoy\n",
      "city number: 377, city name: estelle\n",
      "city number: 378, city name: gambela\n",
      "city number: 379, city name: port hardy\n",
      "city number: 380, city name: uyuni\n",
      "city number: 381, city name: birin\n",
      "city number: 382, city name: manakara\n",
      "city number: 383, city name: ukiah\n",
      "city number: 384, city name: staritsa\n",
      "city number: 385, city name: sikonge\n",
      "city number: 386, city name: arlit\n",
      "city number: 387, city name: sibolga\n",
      "city number: 388, city name: kirovskiy\n",
      "city number: 389, city name: howick\n",
      "city number: 390, city name: sehithwa\n",
      "city number: 391, city name: geraldton\n",
      "city number: 392, city name: wuxue\n",
      "city not found\n",
      "city number: 393, city name: moose factory\n",
      "city number: 394, city name: morganton\n",
      "city number: 395, city name: muriti\n",
      "city number: 396, city name: constitucion\n",
      "city not found\n",
      "city number: 397, city name: port keats\n",
      "city number: 398, city name: auki\n",
      "city number: 399, city name: adzope\n",
      "city number: 400, city name: baglan\n",
      "city number: 401, city name: uri\n",
      "city number: 402, city name: mugur-aksy\n",
      "city number: 403, city name: ulaangom\n",
      "city number: 404, city name: cootamundra\n",
      "city number: 405, city name: shyryayeve\n",
      "city number: 406, city name: omboue\n",
      "city number: 407, city name: sinazongwe\n",
      "city number: 408, city name: bacungan\n",
      "city number: 409, city name: portland\n",
      "city number: 410, city name: peciu nou\n",
      "city number: 411, city name: caramay\n",
      "city number: 412, city name: muvattupula\n",
      "city number: 413, city name: ondangwa\n",
      "city number: 414, city name: san pedro\n",
      "city number: 415, city name: magadi\n",
      "city number: 416, city name: xinzhi\n",
      "city number: 417, city name: nkhata bay\n",
      "city number: 418, city name: nabire\n",
      "city number: 419, city name: ekhabi\n"
     ]
    },
    {
     "name": "stdout",
     "output_type": "stream",
     "text": [
      "city number: 420, city name: dera ghazi khan\n",
      "city number: 421, city name: vallenar\n",
      "city number: 422, city name: chitral\n",
      "city number: 423, city name: kaeo\n",
      "city number: 424, city name: leningradskiy\n",
      "city number: 425, city name: merauke\n",
      "city number: 426, city name: jalu\n",
      "city number: 427, city name: bathsheba\n",
      "city not found\n",
      "city number: 428, city name: ponta delgada\n",
      "city number: 429, city name: nijar\n",
      "city not found\n",
      "city number: 430, city name: lock haven\n",
      "city number: 431, city name: avera\n",
      "city not found\n",
      "city number: 432, city name: tovuz\n",
      "city number: 433, city name: vestmannaeyjar\n",
      "city number: 434, city name: paamiut\n",
      "city number: 435, city name: san vicente\n",
      "city number: 436, city name: zabol\n",
      "city number: 437, city name: alugan\n",
      "city number: 438, city name: mutoko\n",
      "city number: 439, city name: kamphaeng phet\n",
      "city number: 440, city name: nelson bay\n",
      "city number: 441, city name: tete\n",
      "city number: 442, city name: kieta\n",
      "city number: 443, city name: cairns\n",
      "city number: 444, city name: rochegda\n",
      "city number: 445, city name: nikel\n",
      "city number: 446, city name: waingapu\n",
      "city number: 447, city name: kasempa\n",
      "city number: 448, city name: srednekolymsk\n",
      "city number: 449, city name: damara\n",
      "city number: 450, city name: winnemucca\n",
      "city number: 451, city name: paralimni\n",
      "city number: 452, city name: loningen\n",
      "city number: 453, city name: hami\n",
      "city number: 454, city name: amberley\n",
      "city number: 455, city name: bo phloi\n",
      "city number: 456, city name: baneh\n",
      "city number: 457, city name: aykhal\n",
      "city number: 458, city name: tawang\n",
      "city number: 459, city name: kyaikto\n",
      "city number: 460, city name: moron\n",
      "city number: 461, city name: along\n",
      "city number: 462, city name: dalvik\n",
      "city number: 463, city name: husavik\n",
      "city number: 464, city name: umm lajj\n",
      "city number: 465, city name: sinnamary\n",
      "city number: 466, city name: puerto madero\n",
      "city number: 467, city name: madimba\n",
      "city number: 468, city name: tigil\n",
      "city number: 469, city name: teguldet\n",
      "city number: 470, city name: yucca valley\n",
      "city number: 471, city name: gushi\n",
      "city number: 472, city name: yulara\n",
      "city number: 473, city name: djibo\n",
      "city number: 474, city name: kuala terengganu\n",
      "city number: 475, city name: aklavik\n",
      "city number: 476, city name: neyshabur\n",
      "city number: 477, city name: zaysan\n",
      "city number: 478, city name: ruston\n",
      "city number: 479, city name: sambava\n",
      "city number: 480, city name: sao gabriel da cachoeira\n",
      "city number: 481, city name: farafangana\n",
      "city number: 482, city name: frontera\n",
      "city not found\n",
      "city number: 483, city name: taxisco\n",
      "city number: 484, city name: khash\n",
      "city number: 485, city name: olafsvik\n",
      "city number: 486, city name: kudahuvadhoo\n",
      "city number: 487, city name: shache\n",
      "city not found\n",
      "city number: 488, city name: kununurra\n",
      "city number: 489, city name: itupiranga\n",
      "city number: 490, city name: insar\n",
      "city number: 491, city name: polunochnoye\n",
      "city number: 492, city name: balkanabat\n",
      "city not found\n",
      "city number: 493, city name: kodino\n",
      "city number: 494, city name: belgrade\n",
      "city number: 495, city name: beringovskiy\n",
      "city number: 496, city name: hovd\n",
      "city number: 497, city name: coihaique\n",
      "city not found\n",
      "city number: 498, city name: castrillon\n",
      "city not found\n",
      "city number: 499, city name: almora\n",
      "city number: 500, city name: biak\n",
      "city number: 501, city name: yarmouth\n",
      "city number: 502, city name: iquitos\n",
      "city number: 503, city name: peci\n",
      "city number: 504, city name: kalaleh\n",
      "city not found\n",
      "city number: 505, city name: san carlos de bariloche\n",
      "city number: 506, city name: abha\n",
      "city number: 507, city name: santa isabel do rio negro\n",
      "city number: 508, city name: maceio\n",
      "city number: 509, city name: namie\n",
      "city number: 510, city name: pemangkat\n",
      "city number: 511, city name: sao miguel do araguaia\n",
      "city number: 512, city name: playas\n",
      "city number: 513, city name: rizhao\n",
      "city number: 514, city name: dunedin\n",
      "city number: 515, city name: hamilton\n",
      "city number: 516, city name: thinadhoo\n",
      "city number: 517, city name: lake charles\n",
      "city number: 518, city name: coracora\n",
      "city number: 519, city name: gijon\n",
      "city number: 520, city name: qaqortoq\n",
      "city number: 521, city name: binghamton\n",
      "city number: 522, city name: verkhnevilyuysk\n",
      "city number: 523, city name: warrnambool\n",
      "city number: 524, city name: vilyuysk\n",
      "city number: 525, city name: payo\n",
      "city number: 526, city name: virginia beach\n",
      "city number: 527, city name: mayya\n",
      "city number: 528, city name: kalga\n",
      "city number: 529, city name: keelung\n",
      "city number: 530, city name: baculin\n",
      "city number: 531, city name: black river\n",
      "city number: 532, city name: staryy nadym\n",
      "city not found\n",
      "city number: 533, city name: hambantota\n",
      "city number: 534, city name: kamenskiy\n",
      "city number: 535, city name: karratha\n",
      "city number: 536, city name: jatai\n",
      "city number: 537, city name: moerai\n"
     ]
    }
   ],
   "source": [
    "url = \"http://api.openweathermap.org/data/2.5/weather?\"\n",
    "\n",
    "temp = []\n",
    "humidity = []\n",
    "cloudiness = []\n",
    "wind_speed = []\n",
    "town = []\n",
    "lat = []\n",
    "long = []\n",
    "datetime = []\n",
    "country = []\n",
    "count = 0\n",
    "\n",
    "for city in cities:\n",
    "    target_url = f\"{url}appid={weather_api_key}&q={city}&units=imperial\"\n",
    "    response = requests.get(target_url).json()\n",
    "    try:\n",
    "        temperature = response['main']['temp']\n",
    "        humid = response['main']['humidity']\n",
    "        cloudy = response['clouds']['all']\n",
    "        windy = response['wind']['speed']\n",
    "        latitude = response['coord']['lat']\n",
    "        longitude = response['coord']['lon']\n",
    "        dt = response['dt']\n",
    "        place = response['sys']['country']\n",
    "        temp.append(temperature)\n",
    "        humidity.append(humid)\n",
    "        cloudiness.append(cloudy)\n",
    "        wind_speed.append(windy)\n",
    "        town.append(city)\n",
    "        lat.append(latitude)\n",
    "        datetime.append(dt)\n",
    "        long.append(longitude)\n",
    "        country.append(place)\n",
    "        count += 1\n",
    "        print(f\"city number: {count}, city name: {city}\")\n",
    "    except KeyError:\n",
    "        print(\"city not found\")\n",
    "        \n"
   ]
  },
  {
   "cell_type": "code",
   "execution_count": 55,
   "metadata": {},
   "outputs": [
    {
     "data": {
      "text/html": [
       "<div>\n",
       "<style scoped>\n",
       "    .dataframe tbody tr th:only-of-type {\n",
       "        vertical-align: middle;\n",
       "    }\n",
       "\n",
       "    .dataframe tbody tr th {\n",
       "        vertical-align: top;\n",
       "    }\n",
       "\n",
       "    .dataframe thead th {\n",
       "        text-align: right;\n",
       "    }\n",
       "</style>\n",
       "<table border=\"1\" class=\"dataframe\">\n",
       "  <thead>\n",
       "    <tr style=\"text-align: right;\">\n",
       "      <th></th>\n",
       "      <th>City</th>\n",
       "      <th>Temperature</th>\n",
       "      <th>Humidity</th>\n",
       "      <th>Cloudiness</th>\n",
       "      <th>Wind Speed (mph)</th>\n",
       "      <th>Latitude</th>\n",
       "      <th>Longitude</th>\n",
       "      <th>Country</th>\n",
       "      <th>Datetime</th>\n",
       "    </tr>\n",
       "  </thead>\n",
       "  <tbody>\n",
       "    <tr>\n",
       "      <th>0</th>\n",
       "      <td>egvekinot</td>\n",
       "      <td>-6.30</td>\n",
       "      <td>96</td>\n",
       "      <td>71</td>\n",
       "      <td>0.63</td>\n",
       "      <td>66.32</td>\n",
       "      <td>-179.17</td>\n",
       "      <td>RU</td>\n",
       "      <td>1579990858</td>\n",
       "    </tr>\n",
       "    <tr>\n",
       "      <th>1</th>\n",
       "      <td>san patricio</td>\n",
       "      <td>79.16</td>\n",
       "      <td>65</td>\n",
       "      <td>58</td>\n",
       "      <td>7.52</td>\n",
       "      <td>19.22</td>\n",
       "      <td>-104.70</td>\n",
       "      <td>MX</td>\n",
       "      <td>1579990926</td>\n",
       "    </tr>\n",
       "    <tr>\n",
       "      <th>2</th>\n",
       "      <td>busselton</td>\n",
       "      <td>65.70</td>\n",
       "      <td>59</td>\n",
       "      <td>1</td>\n",
       "      <td>9.60</td>\n",
       "      <td>-33.65</td>\n",
       "      <td>115.33</td>\n",
       "      <td>AU</td>\n",
       "      <td>1579990927</td>\n",
       "    </tr>\n",
       "    <tr>\n",
       "      <th>3</th>\n",
       "      <td>punta arenas</td>\n",
       "      <td>51.01</td>\n",
       "      <td>62</td>\n",
       "      <td>0</td>\n",
       "      <td>23.00</td>\n",
       "      <td>-53.15</td>\n",
       "      <td>-70.92</td>\n",
       "      <td>CL</td>\n",
       "      <td>1579990927</td>\n",
       "    </tr>\n",
       "    <tr>\n",
       "      <th>4</th>\n",
       "      <td>kishtwar</td>\n",
       "      <td>9.45</td>\n",
       "      <td>98</td>\n",
       "      <td>100</td>\n",
       "      <td>3.27</td>\n",
       "      <td>33.32</td>\n",
       "      <td>75.77</td>\n",
       "      <td>IN</td>\n",
       "      <td>1579990927</td>\n",
       "    </tr>\n",
       "    <tr>\n",
       "      <th>5</th>\n",
       "      <td>carnarvon</td>\n",
       "      <td>78.64</td>\n",
       "      <td>64</td>\n",
       "      <td>0</td>\n",
       "      <td>19.28</td>\n",
       "      <td>-24.87</td>\n",
       "      <td>113.63</td>\n",
       "      <td>AU</td>\n",
       "      <td>1579990928</td>\n",
       "    </tr>\n",
       "    <tr>\n",
       "      <th>6</th>\n",
       "      <td>ugoofaaru</td>\n",
       "      <td>82.31</td>\n",
       "      <td>68</td>\n",
       "      <td>100</td>\n",
       "      <td>8.21</td>\n",
       "      <td>5.67</td>\n",
       "      <td>73.00</td>\n",
       "      <td>MV</td>\n",
       "      <td>1579990928</td>\n",
       "    </tr>\n",
       "    <tr>\n",
       "      <th>7</th>\n",
       "      <td>new norfolk</td>\n",
       "      <td>63.39</td>\n",
       "      <td>63</td>\n",
       "      <td>77</td>\n",
       "      <td>1.99</td>\n",
       "      <td>-42.78</td>\n",
       "      <td>147.06</td>\n",
       "      <td>AU</td>\n",
       "      <td>1579990929</td>\n",
       "    </tr>\n",
       "    <tr>\n",
       "      <th>8</th>\n",
       "      <td>marion</td>\n",
       "      <td>32.25</td>\n",
       "      <td>95</td>\n",
       "      <td>90</td>\n",
       "      <td>17.22</td>\n",
       "      <td>39.77</td>\n",
       "      <td>-86.16</td>\n",
       "      <td>US</td>\n",
       "      <td>1579990929</td>\n",
       "    </tr>\n",
       "    <tr>\n",
       "      <th>9</th>\n",
       "      <td>kavaratti</td>\n",
       "      <td>81.25</td>\n",
       "      <td>66</td>\n",
       "      <td>77</td>\n",
       "      <td>3.42</td>\n",
       "      <td>10.57</td>\n",
       "      <td>72.64</td>\n",
       "      <td>IN</td>\n",
       "      <td>1579990930</td>\n",
       "    </tr>\n",
       "    <tr>\n",
       "      <th>10</th>\n",
       "      <td>ahipara</td>\n",
       "      <td>87.01</td>\n",
       "      <td>70</td>\n",
       "      <td>86</td>\n",
       "      <td>1.01</td>\n",
       "      <td>-35.17</td>\n",
       "      <td>173.17</td>\n",
       "      <td>NZ</td>\n",
       "      <td>1579990930</td>\n",
       "    </tr>\n",
       "    <tr>\n",
       "      <th>11</th>\n",
       "      <td>ribeira grande</td>\n",
       "      <td>54.05</td>\n",
       "      <td>78</td>\n",
       "      <td>100</td>\n",
       "      <td>5.77</td>\n",
       "      <td>38.52</td>\n",
       "      <td>-28.70</td>\n",
       "      <td>PT</td>\n",
       "      <td>1579990900</td>\n",
       "    </tr>\n",
       "    <tr>\n",
       "      <th>12</th>\n",
       "      <td>mataura</td>\n",
       "      <td>61.81</td>\n",
       "      <td>72</td>\n",
       "      <td>99</td>\n",
       "      <td>1.86</td>\n",
       "      <td>-46.19</td>\n",
       "      <td>168.86</td>\n",
       "      <td>NZ</td>\n",
       "      <td>1579990931</td>\n",
       "    </tr>\n",
       "    <tr>\n",
       "      <th>13</th>\n",
       "      <td>saskylakh</td>\n",
       "      <td>-16.85</td>\n",
       "      <td>91</td>\n",
       "      <td>100</td>\n",
       "      <td>19.26</td>\n",
       "      <td>71.92</td>\n",
       "      <td>114.08</td>\n",
       "      <td>RU</td>\n",
       "      <td>1579990931</td>\n",
       "    </tr>\n",
       "    <tr>\n",
       "      <th>14</th>\n",
       "      <td>yellowknife</td>\n",
       "      <td>10.00</td>\n",
       "      <td>84</td>\n",
       "      <td>100</td>\n",
       "      <td>7.63</td>\n",
       "      <td>62.46</td>\n",
       "      <td>-114.35</td>\n",
       "      <td>CA</td>\n",
       "      <td>1579990931</td>\n",
       "    </tr>\n",
       "    <tr>\n",
       "      <th>15</th>\n",
       "      <td>atuona</td>\n",
       "      <td>80.87</td>\n",
       "      <td>77</td>\n",
       "      <td>61</td>\n",
       "      <td>15.77</td>\n",
       "      <td>-9.80</td>\n",
       "      <td>-139.03</td>\n",
       "      <td>PF</td>\n",
       "      <td>1579990931</td>\n",
       "    </tr>\n",
       "    <tr>\n",
       "      <th>16</th>\n",
       "      <td>rikitea</td>\n",
       "      <td>78.76</td>\n",
       "      <td>77</td>\n",
       "      <td>36</td>\n",
       "      <td>14.61</td>\n",
       "      <td>-23.12</td>\n",
       "      <td>-134.97</td>\n",
       "      <td>PF</td>\n",
       "      <td>1579990931</td>\n",
       "    </tr>\n",
       "    <tr>\n",
       "      <th>17</th>\n",
       "      <td>cape town</td>\n",
       "      <td>63.16</td>\n",
       "      <td>88</td>\n",
       "      <td>40</td>\n",
       "      <td>9.17</td>\n",
       "      <td>-33.93</td>\n",
       "      <td>18.42</td>\n",
       "      <td>ZA</td>\n",
       "      <td>1579990931</td>\n",
       "    </tr>\n",
       "    <tr>\n",
       "      <th>18</th>\n",
       "      <td>itamarandiba</td>\n",
       "      <td>67.93</td>\n",
       "      <td>97</td>\n",
       "      <td>100</td>\n",
       "      <td>7.29</td>\n",
       "      <td>-17.86</td>\n",
       "      <td>-42.86</td>\n",
       "      <td>BR</td>\n",
       "      <td>1579990932</td>\n",
       "    </tr>\n",
       "    <tr>\n",
       "      <th>19</th>\n",
       "      <td>viedma</td>\n",
       "      <td>74.28</td>\n",
       "      <td>27</td>\n",
       "      <td>2</td>\n",
       "      <td>5.37</td>\n",
       "      <td>-40.81</td>\n",
       "      <td>-63.00</td>\n",
       "      <td>AR</td>\n",
       "      <td>1579990897</td>\n",
       "    </tr>\n",
       "  </tbody>\n",
       "</table>\n",
       "</div>"
      ],
      "text/plain": [
       "              City  Temperature  Humidity  Cloudiness  Wind Speed (mph)  \\\n",
       "0        egvekinot        -6.30        96          71              0.63   \n",
       "1     san patricio        79.16        65          58              7.52   \n",
       "2        busselton        65.70        59           1              9.60   \n",
       "3     punta arenas        51.01        62           0             23.00   \n",
       "4         kishtwar         9.45        98         100              3.27   \n",
       "5        carnarvon        78.64        64           0             19.28   \n",
       "6        ugoofaaru        82.31        68         100              8.21   \n",
       "7      new norfolk        63.39        63          77              1.99   \n",
       "8           marion        32.25        95          90             17.22   \n",
       "9        kavaratti        81.25        66          77              3.42   \n",
       "10         ahipara        87.01        70          86              1.01   \n",
       "11  ribeira grande        54.05        78         100              5.77   \n",
       "12         mataura        61.81        72          99              1.86   \n",
       "13       saskylakh       -16.85        91         100             19.26   \n",
       "14     yellowknife        10.00        84         100              7.63   \n",
       "15          atuona        80.87        77          61             15.77   \n",
       "16         rikitea        78.76        77          36             14.61   \n",
       "17       cape town        63.16        88          40              9.17   \n",
       "18    itamarandiba        67.93        97         100              7.29   \n",
       "19          viedma        74.28        27           2              5.37   \n",
       "\n",
       "    Latitude  Longitude Country    Datetime  \n",
       "0      66.32    -179.17      RU  1579990858  \n",
       "1      19.22    -104.70      MX  1579990926  \n",
       "2     -33.65     115.33      AU  1579990927  \n",
       "3     -53.15     -70.92      CL  1579990927  \n",
       "4      33.32      75.77      IN  1579990927  \n",
       "5     -24.87     113.63      AU  1579990928  \n",
       "6       5.67      73.00      MV  1579990928  \n",
       "7     -42.78     147.06      AU  1579990929  \n",
       "8      39.77     -86.16      US  1579990929  \n",
       "9      10.57      72.64      IN  1579990930  \n",
       "10    -35.17     173.17      NZ  1579990930  \n",
       "11     38.52     -28.70      PT  1579990900  \n",
       "12    -46.19     168.86      NZ  1579990931  \n",
       "13     71.92     114.08      RU  1579990931  \n",
       "14     62.46    -114.35      CA  1579990931  \n",
       "15     -9.80    -139.03      PF  1579990931  \n",
       "16    -23.12    -134.97      PF  1579990931  \n",
       "17    -33.93      18.42      ZA  1579990931  \n",
       "18    -17.86     -42.86      BR  1579990932  \n",
       "19    -40.81     -63.00      AR  1579990897  "
      ]
     },
     "execution_count": 55,
     "metadata": {},
     "output_type": "execute_result"
    }
   ],
   "source": [
    "weather_data = pd.DataFrame({\"City\": town,\n",
    "                            \"Temperature\": temp,\n",
    "                            \"Humidity\": humidity,\n",
    "                            \"Cloudiness\": cloudiness,\n",
    "                            \"Wind Speed (mph)\": wind_speed,\n",
    "                            \"Latitude\": lat,\n",
    "                            \"Longitude\": long,\n",
    "                            \"Country\": country,\n",
    "                            \"Datetime\": datetime})\n",
    "\n",
    "weather_data.head(20)"
   ]
  },
  {
   "cell_type": "markdown",
   "metadata": {},
   "source": [
    "### Convert Raw Data to DataFrame\n",
    "* Export the city data into a .csv.\n",
    "* Display the DataFrame"
   ]
  },
  {
   "cell_type": "code",
   "execution_count": 56,
   "metadata": {},
   "outputs": [],
   "source": [
    "#df.to_csv(r'Path where you want to store the exported CSV file\\File Name.csv')\n",
    "weather_data.to_csv(r\"../output_data\\weather_data.csv\")"
   ]
  },
  {
   "cell_type": "markdown",
   "metadata": {},
   "source": [
    "### Plotting the Data\n",
    "* Use proper labeling of the plots using plot titles (including date of analysis) and axes labels.\n",
    "* Save the plotted figures as .pngs."
   ]
  },
  {
   "cell_type": "markdown",
   "metadata": {},
   "source": [
    "#### Latitude vs. Temperature Plot"
   ]
  },
  {
   "cell_type": "code",
   "execution_count": 57,
   "metadata": {},
   "outputs": [
    {
     "data": {
      "image/png": "[encoded data removed]",
      "text/plain": [
       "<Figure size 432x288 with 1 Axes>"
      ]
     },
     "metadata": {
      "needs_background": "light"
     },
     "output_type": "display_data"
    }
   ],
   "source": [
    "lat = weather_data[\"Latitude\"]\n",
    "temp = weather_data[\"Temperature\"]\n",
    "plt.scatter(lat,temp)\n",
    "plt.title(\"City Latitude vs. Temperature (F) 1/25/2020\")\n",
    "plt.xlabel(\"Latitude\")\n",
    "plt.ylabel(\"Temperature (F)\")\n",
    "#plt.savefig('foo.png')\n",
    "plt.savefig(\"../output_data\\lat_vs_temp.png\")"
   ]
  },
  {
   "cell_type": "code",
   "execution_count": 1,
   "metadata": {},
   "outputs": [
    {
     "name": "stdout",
     "output_type": "stream",
     "text": [
      "This graph shows that the closer a city is to the equator (a latitude of 0), the higher the temperatures are that they experience. As cities have higher or lower latitudes than 0 and are further away fromt the equator, the lower the temperatures tend to be.\n"
     ]
    }
   ],
   "source": [
    "print(\"This graph shows that the closer a city is to the equator (a latitude of 0), the higher the temperatures are that they experience. As cities have higher or lower latitudes than 0 and are further away fromt the equator, the lower the temperatures tend to be.\")"
   ]
  },
  {
   "cell_type": "markdown",
   "metadata": {},
   "source": [
    "#### Latitude vs. Humidity Plot"
   ]
  },
  {
   "cell_type": "code",
   "execution_count": 58,
   "metadata": {},
   "outputs": [
    {
     "name": "stdout",
     "output_type": "stream",
     "text": [
      "The correlation between both factors is 0.25. This tells us latitude is not a good predictor of humidity levels\n"
     ]
    },
    {
     "data": {
      "image/png": "[encoded data removed]",
      "text/plain": [
       "<Figure size 432x288 with 1 Axes>"
      ]
     },
     "metadata": {
      "needs_background": "light"
     },
     "output_type": "display_data"
    }
   ],
   "source": [
    "humidity = weather_data['Humidity']\n",
    "plt.scatter(lat,humidity)\n",
    "plt.xlabel(\"Latitude\")\n",
    "plt.ylabel(\"Humidity\")\n",
    "plt.title(\"City Latitude vs. Humidity 1/25/2020\")\n",
    "correlation = st.pearsonr(lat,humidity)\n",
    "plt.savefig(\"../output_data\\lat_vs_humidity.png\")\n",
    "print(f\"The correlation between both factors is {round(correlation[0],2)}. This tells us latitude is not a good predictor of humidity levels\")"
   ]
  },
  {
   "cell_type": "markdown",
   "metadata": {},
   "source": [
    "#### Latitude vs. Cloudiness Plot"
   ]
  },
  {
   "cell_type": "code",
   "execution_count": 59,
   "metadata": {},
   "outputs": [
    {
     "name": "stdout",
     "output_type": "stream",
     "text": [
      "The correlation between both factors is 0.21. This tells us latitude is not a good predictor of cloudiness.\n"
     ]
    },
    {
     "data": {
      "image/png": "[encoded data removed]",
      "text/plain": [
       "<Figure size 432x288 with 1 Axes>"
      ]
     },
     "metadata": {
      "needs_background": "light"
     },
     "output_type": "display_data"
    }
   ],
   "source": [
    "cloudy = weather_data[\"Cloudiness\"]\n",
    "plt.scatter(lat,cloudy)\n",
    "plt.title(\"City Latitude vs. Cloudiness 1/25/2020\")\n",
    "plt.xlabel(\"Latitude\")\n",
    "plt.ylabel(\"Cloudiness\")\n",
    "correlation2 = st.pearsonr(lat,cloudy)\n",
    "plt.savefig(\"../output_data\\lat_vs_cloudiness.png\")\n",
    "print(f\"The correlation between both factors is {round(correlation2[0],2)}. This tells us latitude is not a good predictor of cloudiness.\")"
   ]
  },
  {
   "cell_type": "markdown",
   "metadata": {},
   "source": [
    "#### Latitude vs. Wind Speed Plot"
   ]
  },
  {
   "cell_type": "code",
   "execution_count": 60,
   "metadata": {},
   "outputs": [
    {
     "name": "stdout",
     "output_type": "stream",
     "text": [
      "The correlation between both factors is -0.02. This tells us there is no relationship between how close a city is to the equator and how windy that city is.\n"
     ]
    },
    {
     "data": {
      "image/png": "[encoded data removed]",
      "text/plain": [
       "<Figure size 432x288 with 1 Axes>"
      ]
     },
     "metadata": {
      "needs_background": "light"
     },
     "output_type": "display_data"
    }
   ],
   "source": [
    "wind = weather_data['Wind Speed (mph)']\n",
    "plt.scatter(lat,wind)\n",
    "plt.title('City Latitude vs. Wind Speed (1/25/2020)')\n",
    "plt.xlabel(\"Latitude\")\n",
    "plt.ylabel(\"Wind Speed (mph)\")\n",
    "plt.savefig(\"../output_data\\lat_vs_wind.png\")\n",
    "correlation3 = st.pearsonr(lat,wind)\n",
    "print(f\"The correlation between both factors is {round(correlation3[0],2)}. This tells us there is no relationship between how close a city is to the equator and how windy that city is.\")"
   ]
  },
  {
   "cell_type": "markdown",
   "metadata": {},
   "source": [
    "## Linear Regression"
   ]
  },
  {
   "cell_type": "code",
   "execution_count": 108,
   "metadata": {},
   "outputs": [],
   "source": [
    "# OPTIONAL: Create a function to create Linear Regression plots\n"
   ]
  },
  {
   "cell_type": "code",
   "execution_count": 28,
   "metadata": {},
   "outputs": [
    {
     "data": {
      "text/html": [
       "<div>\n",
       "<style scoped>\n",
       "    .dataframe tbody tr th:only-of-type {\n",
       "        vertical-align: middle;\n",
       "    }\n",
       "\n",
       "    .dataframe tbody tr th {\n",
       "        vertical-align: top;\n",
       "    }\n",
       "\n",
       "    .dataframe thead th {\n",
       "        text-align: right;\n",
       "    }\n",
       "</style>\n",
       "<table border=\"1\" class=\"dataframe\">\n",
       "  <thead>\n",
       "    <tr style=\"text-align: right;\">\n",
       "      <th></th>\n",
       "      <th>City</th>\n",
       "      <th>Temperature</th>\n",
       "      <th>Humidity</th>\n",
       "      <th>Cloudiness</th>\n",
       "      <th>Wind Speed (mph)</th>\n",
       "      <th>Latitude</th>\n",
       "    </tr>\n",
       "  </thead>\n",
       "  <tbody>\n",
       "    <tr>\n",
       "      <th>0</th>\n",
       "      <td>egvekinot</td>\n",
       "      <td>-6.30</td>\n",
       "      <td>96</td>\n",
       "      <td>71</td>\n",
       "      <td>0.63</td>\n",
       "      <td>66.32</td>\n",
       "    </tr>\n",
       "    <tr>\n",
       "      <th>1</th>\n",
       "      <td>san patricio</td>\n",
       "      <td>79.16</td>\n",
       "      <td>65</td>\n",
       "      <td>58</td>\n",
       "      <td>7.52</td>\n",
       "      <td>19.22</td>\n",
       "    </tr>\n",
       "    <tr>\n",
       "      <th>4</th>\n",
       "      <td>kishtwar</td>\n",
       "      <td>9.45</td>\n",
       "      <td>98</td>\n",
       "      <td>100</td>\n",
       "      <td>3.27</td>\n",
       "      <td>33.32</td>\n",
       "    </tr>\n",
       "    <tr>\n",
       "      <th>6</th>\n",
       "      <td>ugoofaaru</td>\n",
       "      <td>82.31</td>\n",
       "      <td>68</td>\n",
       "      <td>100</td>\n",
       "      <td>8.21</td>\n",
       "      <td>5.67</td>\n",
       "    </tr>\n",
       "    <tr>\n",
       "      <th>8</th>\n",
       "      <td>marion</td>\n",
       "      <td>32.38</td>\n",
       "      <td>95</td>\n",
       "      <td>90</td>\n",
       "      <td>17.22</td>\n",
       "      <td>39.77</td>\n",
       "    </tr>\n",
       "  </tbody>\n",
       "</table>\n",
       "</div>"
      ],
      "text/plain": [
       "           City  Temperature  Humidity  Cloudiness  Wind Speed (mph)  Latitude\n",
       "0     egvekinot        -6.30        96          71              0.63     66.32\n",
       "1  san patricio        79.16        65          58              7.52     19.22\n",
       "4      kishtwar         9.45        98         100              3.27     33.32\n",
       "6     ugoofaaru        82.31        68         100              8.21      5.67\n",
       "8        marion        32.38        95          90             17.22     39.77"
      ]
     },
     "execution_count": 28,
     "metadata": {},
     "output_type": "execute_result"
    }
   ],
   "source": [
    "# Create Northern and Southern Hemisphere DataFrames\n",
    "\n",
    "northern = weather_data.loc[weather_data[\"Latitude\"] >= 0, [\"City\", \"Temperature\", \"Humidity\", \"Cloudiness\", \"Wind Speed (mph)\", \"Latitude\"]]\n",
    "\n",
    "northern.head()"
   ]
  },
  {
   "cell_type": "code",
   "execution_count": 29,
   "metadata": {},
   "outputs": [
    {
     "data": {
      "text/html": [
       "<div>\n",
       "<style scoped>\n",
       "    .dataframe tbody tr th:only-of-type {\n",
       "        vertical-align: middle;\n",
       "    }\n",
       "\n",
       "    .dataframe tbody tr th {\n",
       "        vertical-align: top;\n",
       "    }\n",
       "\n",
       "    .dataframe thead th {\n",
       "        text-align: right;\n",
       "    }\n",
       "</style>\n",
       "<table border=\"1\" class=\"dataframe\">\n",
       "  <thead>\n",
       "    <tr style=\"text-align: right;\">\n",
       "      <th></th>\n",
       "      <th>City</th>\n",
       "      <th>Temperature</th>\n",
       "      <th>Humidity</th>\n",
       "      <th>Cloudiness</th>\n",
       "      <th>Wind Speed (mph)</th>\n",
       "      <th>Latitude</th>\n",
       "    </tr>\n",
       "  </thead>\n",
       "  <tbody>\n",
       "    <tr>\n",
       "      <th>2</th>\n",
       "      <td>busselton</td>\n",
       "      <td>64.09</td>\n",
       "      <td>61</td>\n",
       "      <td>1</td>\n",
       "      <td>9.60</td>\n",
       "      <td>-33.65</td>\n",
       "    </tr>\n",
       "    <tr>\n",
       "      <th>3</th>\n",
       "      <td>punta arenas</td>\n",
       "      <td>50.00</td>\n",
       "      <td>76</td>\n",
       "      <td>0</td>\n",
       "      <td>23.00</td>\n",
       "      <td>-53.15</td>\n",
       "    </tr>\n",
       "    <tr>\n",
       "      <th>5</th>\n",
       "      <td>carnarvon</td>\n",
       "      <td>78.64</td>\n",
       "      <td>64</td>\n",
       "      <td>0</td>\n",
       "      <td>19.28</td>\n",
       "      <td>-24.87</td>\n",
       "    </tr>\n",
       "    <tr>\n",
       "      <th>7</th>\n",
       "      <td>new norfolk</td>\n",
       "      <td>62.96</td>\n",
       "      <td>65</td>\n",
       "      <td>77</td>\n",
       "      <td>3.00</td>\n",
       "      <td>-42.78</td>\n",
       "    </tr>\n",
       "    <tr>\n",
       "      <th>10</th>\n",
       "      <td>ahipara</td>\n",
       "      <td>82.00</td>\n",
       "      <td>81</td>\n",
       "      <td>86</td>\n",
       "      <td>1.01</td>\n",
       "      <td>-35.17</td>\n",
       "    </tr>\n",
       "  </tbody>\n",
       "</table>\n",
       "</div>"
      ],
      "text/plain": [
       "            City  Temperature  Humidity  Cloudiness  Wind Speed (mph)  \\\n",
       "2      busselton        64.09        61           1              9.60   \n",
       "3   punta arenas        50.00        76           0             23.00   \n",
       "5      carnarvon        78.64        64           0             19.28   \n",
       "7    new norfolk        62.96        65          77              3.00   \n",
       "10       ahipara        82.00        81          86              1.01   \n",
       "\n",
       "    Latitude  \n",
       "2     -33.65  \n",
       "3     -53.15  \n",
       "5     -24.87  \n",
       "7     -42.78  \n",
       "10    -35.17  "
      ]
     },
     "execution_count": 29,
     "metadata": {},
     "output_type": "execute_result"
    }
   ],
   "source": [
    "southern = weather_data.loc[weather_data[\"Latitude\"] < 0, [\"City\", \"Temperature\", \"Humidity\", \"Cloudiness\", \"Wind Speed (mph)\", \"Latitude\"]]\n",
    "southern.head()"
   ]
  },
  {
   "cell_type": "markdown",
   "metadata": {},
   "source": [
    "####  Northern Hemisphere - Max Temp vs. Latitude Linear Regression"
   ]
  },
  {
   "cell_type": "code",
   "execution_count": 68,
   "metadata": {},
   "outputs": [
    {
     "name": "stdout",
     "output_type": "stream",
     "text": [
      "The r-squared is: -0.86\n",
      "This graph shows that the higher the latitude is for a city in the Northern Hemisphere, the colder the temperatures will be, and the lower the latitude is, the higher the temperatures will be.\n"
     ]
    },
    {
     "data": {
      "image/png": "[encoded data removed]",
      "text/plain": [
       "<Figure size 432x288 with 1 Axes>"
      ]
     },
     "metadata": {
      "needs_background": "light"
     },
     "output_type": "display_data"
    }
   ],
   "source": [
    "x = northern[\"Latitude\"]\n",
    "y = northern[\"Temperature\"]\n",
    "(slope, intercept, rvalue, pvalue, stderr) = linregress(x, y)\n",
    "regress_values = x * slope + intercept\n",
    "line = \"y = \" + str(round(slope,2)) + \"x + \" + str(round(intercept,2))\n",
    "plt.scatter(x, y)\n",
    "plt.plot(x, regress_values, \"r-\")\n",
    "plt.annotate(line,(5,-20), fontsize=15, color='red')\n",
    "plt.xlabel(\"Latitude\")\n",
    "plt.ylabel(\"Temperature (F)\")\n",
    "plt.title(\"Northern Hemisphere - Temperature vs. Latitude\")\n",
    "plt.savefig(\"../output_data\\lat_vs_temp_north.png\")\n",
    "print(f\"The r-squared is: {round(rvalue,2)}\")\n",
    "print(\"This graph shows that the higher the latitude is for a city in the Northern Hemisphere, the colder the temperatures will be, and the lower the latitude is, the higher the temperatures will be.\")"
   ]
  },
  {
   "cell_type": "markdown",
   "metadata": {},
   "source": [
    "####  Southern Hemisphere - Max Temp vs. Latitude Linear Regression"
   ]
  },
  {
   "cell_type": "code",
   "execution_count": 69,
   "metadata": {},
   "outputs": [
    {
     "name": "stdout",
     "output_type": "stream",
     "text": [
      "The r-squared is: 0.52\n",
      "In the Southern Hemisphere, higher latitudes are associated with higher temperatures.\n"
     ]
    },
    {
     "data": {
      "image/png": "[encoded data removed]",
      "text/plain": [
       "<Figure size 432x288 with 1 Axes>"
      ]
     },
     "metadata": {
      "needs_background": "light"
     },
     "output_type": "display_data"
    }
   ],
   "source": [
    "xs = southern[\"Latitude\"]\n",
    "ys = southern[\"Temperature\"]\n",
    "(slope, intercept, rvalue, pvalue, stderr) = linregress(xs, ys)\n",
    "regress_values = xs * slope + intercept\n",
    "line = \"y = \" + str(round(slope,2)) + \"x + \" + str(round(intercept,2))\n",
    "plt.scatter(xs, ys)\n",
    "plt.plot(xs, regress_values, \"r-\")\n",
    "plt.annotate(line,(-50,90), fontsize=15, color='red')\n",
    "plt.xlabel(\"Latitude\")\n",
    "plt.ylabel(\"Temperature (F)\")\n",
    "plt.title(\"Southern Hemisphere - Temperature vs. Latitude\")\n",
    "plt.savefig(\"../output_data\\lat_vs_temp_south.png\")\n",
    "print(f\"The r-squared is: {round(rvalue,2)}\")\n",
    "print(\"In the Southern Hemisphere, higher latitudes are associated with higher temperatures.\")"
   ]
  },
  {
   "cell_type": "markdown",
   "metadata": {},
   "source": [
    "####  Northern Hemisphere - Humidity (%) vs. Latitude Linear Regression"
   ]
  },
  {
   "cell_type": "code",
   "execution_count": 72,
   "metadata": {},
   "outputs": [
    {
     "name": "stdout",
     "output_type": "stream",
     "text": [
      "The r-squared is: 0.42\n",
      "In the Northern Hemisphere, higher latitudes experience slightly higher levels of humidity, but the relationship between the two is not very strong\n"
     ]
    },
    {
     "data": {
      "image/png": "[encoded data removed]",
      "text/plain": [
       "<Figure size 432x288 with 1 Axes>"
      ]
     },
     "metadata": {
      "needs_background": "light"
     },
     "output_type": "display_data"
    }
   ],
   "source": [
    "y_h = northern[\"Humidity\"]\n",
    "(slope, intercept, rvalue, pvalue, stderr) = linregress(x, y_h)\n",
    "regress_values = x * slope + intercept\n",
    "line = \"y = \" + str(round(slope,2)) + \"x + \" + str(round(intercept,2))\n",
    "plt.scatter(x, y_h)\n",
    "plt.plot(x, regress_values, \"r-\")\n",
    "plt.annotate(line,(40,20), fontsize=15, color='red')\n",
    "plt.xlabel(\"Latitude\")\n",
    "plt.ylabel(\"Humidity %\")\n",
    "plt.title(\"Northern Hemisphere - Humidity % vs. Latitude\")\n",
    "plt.savefig(\"../output_data\\lat_humid_north.png\")\n",
    "print(f\"The r-squared is: {round(rvalue,2)}\")\n",
    "print(\"In the Northern Hemisphere, higher latitudes experience slightly higher levels of humidity, but the relationship between the two is not very strong\")"
   ]
  },
  {
   "cell_type": "markdown",
   "metadata": {},
   "source": [
    "####  Southern Hemisphere - Humidity (%) vs. Latitude Linear Regression"
   ]
  },
  {
   "cell_type": "code",
   "execution_count": 73,
   "metadata": {},
   "outputs": [
    {
     "name": "stdout",
     "output_type": "stream",
     "text": [
      "The r-squared is: 0.19\n",
      "In the Southern Hemisphere, latitude is not a good predictor of humidity\n"
     ]
    },
    {
     "data": {
      "image/png": "[encoded data removed]",
      "text/plain": [
       "<Figure size 432x288 with 1 Axes>"
      ]
     },
     "metadata": {
      "needs_background": "light"
     },
     "output_type": "display_data"
    }
   ],
   "source": [
    "y_hs = southern[\"Humidity\"]\n",
    "(slope, intercept, rvalue, pvalue, stderr) = linregress(xs, y_hs)\n",
    "regress_values = xs * slope + intercept\n",
    "line = \"y = \" + str(round(slope,2)) + \"x + \" + str(round(intercept,2))\n",
    "plt.scatter(xs, y_hs)\n",
    "plt.plot(xs, regress_values, \"r-\")\n",
    "plt.annotate(line,(-50,20), fontsize=15, color='red')\n",
    "plt.xlabel(\"Latitude\")\n",
    "plt.ylabel(\"Humidity %\")\n",
    "plt.title(\"Southern Hemisphere - Humidity % vs. Latitude\")\n",
    "plt.savefig(\"../output_data\\lat_humid_south.png\")\n",
    "print(f\"The r-squared is: {round(rvalue,2)}\")\n",
    "print(\"In the Southern Hemisphere, latitude is not a good predictor of humidity\")"
   ]
  },
  {
   "cell_type": "markdown",
   "metadata": {},
   "source": [
    "####  Northern Hemisphere - Cloudiness (%) vs. Latitude Linear Regression"
   ]
  },
  {
   "cell_type": "code",
   "execution_count": 74,
   "metadata": {},
   "outputs": [
    {
     "name": "stdout",
     "output_type": "stream",
     "text": [
      "The r-squared is: 0.15\n",
      "In the Northern Hemisphere, latitude is not a good predictor of cloudiness\n"
     ]
    },
    {
     "data": {
      "image/png": "[encoded data removed]",
      "text/plain": [
       "<Figure size 432x288 with 1 Axes>"
      ]
     },
     "metadata": {
      "needs_background": "light"
     },
     "output_type": "display_data"
    }
   ],
   "source": [
    "y_c = northern[\"Cloudiness\"]\n",
    "(slope, intercept, rvalue, pvalue, stderr) = linregress(x, y_c)\n",
    "regress_values = x * slope + intercept\n",
    "line = \"y = \" + str(round(slope,2)) + \"x + \" + str(round(intercept,2))\n",
    "plt.scatter(x, y_c)\n",
    "plt.plot(x, regress_values, \"r-\")\n",
    "plt.annotate(line,(40,20), fontsize=15, color='red')\n",
    "plt.xlabel(\"Latitude\")\n",
    "plt.ylabel(\"Cloudiness\")\n",
    "plt.title(\"Northern Hemisphere - Cloudiness(%) vs. Latitude\")\n",
    "plt.savefig(\"../output_data\\lat_cloud_north.png\")\n",
    "print(f\"The r-squared is: {round(rvalue,2)}\")\n",
    "print(\"In the Northern Hemisphere, latitude is not a good predictor of cloudiness\")"
   ]
  },
  {
   "cell_type": "markdown",
   "metadata": {},
   "source": [
    "####  Southern Hemisphere - Cloudiness (%) vs. Latitude Linear Regression"
   ]
  },
  {
   "cell_type": "code",
   "execution_count": 75,
   "metadata": {},
   "outputs": [
    {
     "name": "stdout",
     "output_type": "stream",
     "text": [
      "The r-squared is: 0.29\n",
      "In the Southern Hemisphere, latitude is not a good predictor of cloudiness\n"
     ]
    },
    {
     "data": {
      "image/png": "[encoded data removed]",
      "text/plain": [
       "<Figure size 432x288 with 1 Axes>"
      ]
     },
     "metadata": {
      "needs_background": "light"
     },
     "output_type": "display_data"
    }
   ],
   "source": [
    "y_cs = southern[\"Cloudiness\"]\n",
    "(slope, intercept, rvalue, pvalue, stderr) = linregress(xs, y_cs)\n",
    "regress_values = xs * slope + intercept\n",
    "line = \"y = \" + str(round(slope,2)) + \"x + \" + str(round(intercept,2))\n",
    "plt.scatter(xs, y_cs)\n",
    "plt.plot(xs, regress_values, \"r-\")\n",
    "plt.annotate(line,(-50,20), fontsize=15, color='red')\n",
    "plt.xlabel(\"Latitude\")\n",
    "plt.ylabel(\"Cloudiness\")\n",
    "plt.title(\"Southern Hemisphere - Cloudiness(%) vs. Latitude\")\n",
    "plt.savefig(\"../output_data\\lat_cloud_south.png\")\n",
    "print(f\"The r-squared is: {round(rvalue,2)}\")\n",
    "print(\"In the Southern Hemisphere, latitude is not a good predictor of cloudiness\")"
   ]
  },
  {
   "cell_type": "markdown",
   "metadata": {},
   "source": [
    "####  Northern Hemisphere - Wind Speed (mph) vs. Latitude Linear Regression"
   ]
  },
  {
   "cell_type": "code",
   "execution_count": 76,
   "metadata": {},
   "outputs": [
    {
     "name": "stdout",
     "output_type": "stream",
     "text": [
      "The r-squared is: 0.16\n",
      "In the Northern Hemisphere, latitude is not a good predictor of wind speed\n"
     ]
    },
    {
     "data": {
      "image/png": "[encoded data removed]",
      "text/plain": [
       "<Figure size 432x288 with 1 Axes>"
      ]
     },
     "metadata": {
      "needs_background": "light"
     },
     "output_type": "display_data"
    }
   ],
   "source": [
    "y_w = northern[\"Wind Speed (mph)\"]\n",
    "(slope, intercept, rvalue, pvalue, stderr) = linregress(x, y_w)\n",
    "regress_values = x * slope + intercept\n",
    "line = \"y = \" + str(round(slope,2)) + \"x + \" + str(round(intercept,2))\n",
    "plt.scatter(x, y_w)\n",
    "plt.plot(x, regress_values, \"r-\")\n",
    "plt.annotate(line,(40,30), fontsize=15, color='red')\n",
    "plt.xlabel(\"Latitude\")\n",
    "plt.ylabel(\"Wind Speed\")\n",
    "plt.title(\"Northern Hemisphere - Wind Speed (mph) vs. Latitude\")\n",
    "plt.savefig(\"../output_data\\lat_wind_north.png\")\n",
    "print(f\"The r-squared is: {round(rvalue,2)}\")\n",
    "print(\"In the Northern Hemisphere, latitude is not a good predictor of wind speed\")"
   ]
  },
  {
   "cell_type": "markdown",
   "metadata": {},
   "source": [
    "####  Southern Hemisphere - Wind Speed (mph) vs. Latitude Linear Regression"
   ]
  },
  {
   "cell_type": "code",
   "execution_count": 77,
   "metadata": {},
   "outputs": [
    {
     "name": "stdout",
     "output_type": "stream",
     "text": [
      "The r-squared is: -0.15\n",
      "In the Southern Hemisphere, latitude is not a good predictor of wind speed\n"
     ]
    },
    {
     "data": {
      "image/png": "[encoded data removed]",
      "text/plain": [
       "<Figure size 432x288 with 1 Axes>"
      ]
     },
     "metadata": {
      "needs_background": "light"
     },
     "output_type": "display_data"
    }
   ],
   "source": [
    "y_ws = southern[\"Wind Speed (mph)\"]\n",
    "(slope, intercept, rvalue, pvalue, stderr) = linregress(xs, y_ws)\n",
    "regress_values = xs * slope + intercept\n",
    "line = \"y = \" + str(round(slope,2)) + \"x + \" + str(round(intercept,2))\n",
    "plt.scatter(xs, y_ws)\n",
    "plt.plot(xs, regress_values, \"r-\")\n",
    "plt.annotate(line,(-40,30), fontsize=15, color='red')\n",
    "plt.xlabel(\"Latitude\")\n",
    "plt.ylabel(\"Wind Speed\")\n",
    "plt.title(\"Southern Hemisphere - Wind Speed(mph) vs. Latitude\")\n",
    "plt.savefig(\"../output_data\\lat_wind_south.png\")\n",
    "print(f\"The r-squared is: {round(rvalue,2)}\")\n",
    "print(\"In the Southern Hemisphere, latitude is not a good predictor of wind speed\")"
   ]
  },
  {
   "cell_type": "code",
   "execution_count": null,
   "metadata": {},
   "outputs": [],
   "source": []
  }
 ],
 "metadata": {
  "anaconda-cloud": {},
  "kernel_info": {
   "name": "python3"
  },
  "kernelspec": {
   "display_name": "Python 3",
   "language": "python",
   "name": "python3"
  },
  "language_info": {
   "codemirror_mode": {
    "name": "ipython",
    "version": 3
   },
   "file_extension": ".py",
   "mimetype": "text/x-python",
   "name": "python",
   "nbconvert_exporter": "python",
   "pygments_lexer": "ipython3",
   "version": "3.6.9"
  },
  "latex_envs": {
   "LaTeX_envs_menu_present": true,
   "autoclose": false,
   "autocomplete": true,
   "bibliofile": "biblio.bib",
   "cite_by": "apalike",
   "current_citInitial": 1,
   "eqLabelWithNumbers": true,
   "eqNumInitial": 1,
   "hotkeys": {
    "equation": "Ctrl-E",
    "itemize": "Ctrl-I"
   },
   "labels_anchors": false,
   "latex_user_defs": false,
   "report_style_numbering": false,
   "user_envs_cfg": false
  },
  "nteract": {
   "version": "0.12.3"
  }
 },
 "nbformat": 4,
 "nbformat_minor": 2
}
