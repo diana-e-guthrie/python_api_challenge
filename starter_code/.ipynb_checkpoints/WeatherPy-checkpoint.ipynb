{
 "cells": [
  {
   "cell_type": "markdown",
   "metadata": {},
   "source": [
    "# WeatherPy\n",
    "----\n",
    "\n",
    "#### Note\n",
    "* Instructions have been included for each segment. You do not have to follow them exactly, but they are included to help you think through the steps."
   ]
  },
  {
   "cell_type": "code",
   "execution_count": 2,
   "metadata": {
    "scrolled": true
   },
   "outputs": [],
   "source": [
    "# Dependencies and Setup\n",
    "import matplotlib.pyplot as plt\n",
    "import pandas as pd\n",
    "import numpy as np\n",
    "import requests\n",
    "import time\n",
    "from scipy.stats import linregress\n",
    "from pprint import pprint\n",
    "# Import API key\n",
    "from api_keys import weather_api_key\n",
    "\n",
    "# Incorporated citipy to determine city based on latitude and longitude\n",
    "from citipy import citipy\n",
    "\n",
    "# Output File (CSV)\n",
    "output_data_file = \"output_data/cities.csv\"\n",
    "\n",
    "# Range of latitudes and longitudes\n",
    "lat_range = (-90, 90)\n",
    "lng_range = (-180, 180)"
   ]
  },
  {
   "cell_type": "markdown",
   "metadata": {},
   "source": [
    "## Generate Cities List"
   ]
  },
  {
   "cell_type": "code",
   "execution_count": 3,
   "metadata": {},
   "outputs": [
    {
     "data": {
      "text/plain": [
       "619"
      ]
     },
     "execution_count": 3,
     "metadata": {},
     "output_type": "execute_result"
    }
   ],
   "source": [
    "# List for holding lat_lngs and cities\n",
    "lat_lngs = []\n",
    "cities = []\n",
    "\n",
    "# Create a set of random lat and lng combinations\n",
    "lats = np.random.uniform(low=-90.000, high=90.000, size=1500)\n",
    "lngs = np.random.uniform(low=-180.000, high=180.000, size=1500)\n",
    "lat_lngs = zip(lats, lngs)\n",
    "\n",
    "# Identify nearest city for each lat, lng combination\n",
    "for lat_lng in lat_lngs:\n",
    "    city = citipy.nearest_city(lat_lng[0], lat_lng[1]).city_name\n",
    "    \n",
    "    # If the city is unique, then add it to a our cities list\n",
    "    if city not in cities:\n",
    "        cities.append(city)\n",
    "\n",
    "# Print the city count to confirm sufficient count\n",
    "len(cities)"
   ]
  },
  {
   "cell_type": "code",
   "execution_count": 4,
   "metadata": {},
   "outputs": [
    {
     "name": "stdout",
     "output_type": "stream",
     "text": [
      "{'base': 'stations',\n",
      " 'clouds': {'all': 49},\n",
      " 'cod': 200,\n",
      " 'coord': {'lat': 39.74, 'lon': -104.98},\n",
      " 'dt': 1579970638,\n",
      " 'id': 5419384,\n",
      " 'main': {'feels_like': 36.88,\n",
      "          'humidity': 48,\n",
      "          'pressure': 1016,\n",
      "          'temp': 42.06,\n",
      "          'temp_max': 46.99,\n",
      "          'temp_min': 30.99},\n",
      " 'name': 'Denver',\n",
      " 'sys': {'country': 'US',\n",
      "         'id': 2010438,\n",
      "         'sunrise': 1579961633,\n",
      "         'sunset': 1579997409,\n",
      "         'type': 3},\n",
      " 'timezone': -25200,\n",
      " 'weather': [{'description': 'scattered clouds',\n",
      "              'icon': '03d',\n",
      "              'id': 802,\n",
      "              'main': 'Clouds'}],\n",
      " 'wind': {'deg': 59, 'gust': 3, 'speed': 1.01}}\n"
     ]
    }
   ],
   "source": [
    "city = \"Denver\"\n",
    "url = \"http://api.openweathermap.org/data/2.5/weather?\"\n",
    "target_url = f\"{url}appid={weather_api_key}&q={city}&units=imperial\"\n",
    "response = requests.get(target_url).json()\n",
    "pprint(response)"
   ]
  },
  {
   "cell_type": "markdown",
   "metadata": {},
   "source": [
    "### Perform API Calls\n",
    "* Perform a weather check on each city using a series of successive API calls.\n",
    "* Include a print log of each city as it'sbeing processed (with the city number and city name).\n"
   ]
  },
  {
   "cell_type": "code",
   "execution_count": 64,
   "metadata": {},
   "outputs": [
    {
     "name": "stdout",
     "output_type": "stream",
     "text": [
      "city number: 1, city name: meulaboh\n",
      "city number: 2, city name: port lincoln\n",
      "city number: 3, city name: mpika\n",
      "city number: 4, city name: vostok\n",
      "city number: 5, city name: bredasdorp\n",
      "city number: 6, city name: portland\n",
      "city number: 7, city name: westport\n",
      "city number: 8, city name: bulnes\n",
      "city number: 9, city name: severo-kurilsk\n",
      "city number: 10, city name: east london\n",
      "city number: 11, city name: kapaa\n",
      "city number: 12, city name: digby\n",
      "city number: 13, city name: mataura\n",
      "city number: 14, city name: la ronge\n",
      "city number: 15, city name: albany\n",
      "city number: 16, city name: port alfred\n",
      "city number: 17, city name: tres passos\n",
      "city number: 18, city name: qaanaaq\n",
      "city number: 19, city name: hobyo\n",
      "city number: 20, city name: avera\n",
      "city number: 21, city name: aiquile\n",
      "city number: 22, city name: mayumba\n",
      "city number: 23, city name: port elizabeth\n",
      "city number: 24, city name: ponta do sol\n",
      "city number: 25, city name: bilma\n",
      "city number: 26, city name: cidreira\n",
      "city number: 27, city name: yellowknife\n",
      "city number: 28, city name: kamyshevatskaya\n",
      "city number: 29, city name: chokurdakh\n",
      "city number: 30, city name: saldanha\n",
      "city number: 31, city name: upernavik\n",
      "city number: 32, city name: butaritari\n",
      "city not found\n",
      "city number: 33, city name: rio gallegos\n",
      "city number: 34, city name: aklavik\n",
      "city number: 35, city name: bluff\n",
      "city not found\n",
      "city number: 36, city name: punta arenas\n",
      "city number: 37, city name: pangnirtung\n",
      "city not found\n",
      "city number: 38, city name: wawa\n",
      "city number: 39, city name: mahebourg\n",
      "city not found\n",
      "city number: 40, city name: hermanus\n",
      "city not found\n",
      "city number: 41, city name: ushuaia\n",
      "city number: 42, city name: carnarvon\n",
      "city number: 43, city name: jining\n",
      "city number: 44, city name: tawang\n",
      "city number: 45, city name: diglur\n",
      "city number: 46, city name: saint george\n",
      "city number: 47, city name: katsuura\n",
      "city number: 48, city name: egvekinot\n",
      "city not found\n",
      "city number: 49, city name: lebu\n",
      "city number: 50, city name: guaruja\n",
      "city number: 51, city name: lyubech\n",
      "city number: 52, city name: mackay\n",
      "city number: 53, city name: codrington\n",
      "city number: 54, city name: macas\n",
      "city number: 55, city name: poum\n",
      "city number: 56, city name: rikitea\n",
      "city number: 57, city name: nago\n",
      "city number: 58, city name: georgetown\n",
      "city number: 59, city name: hambantota\n",
      "city number: 60, city name: dangriga\n",
      "city number: 61, city name: souillac\n",
      "city number: 62, city name: barrow\n",
      "city number: 63, city name: okha\n",
      "city number: 64, city name: arraial do cabo\n",
      "city number: 65, city name: tiksi\n",
      "city number: 66, city name: barranca\n",
      "city number: 67, city name: oltedal\n",
      "city not found\n",
      "city not found\n",
      "city number: 68, city name: karratha\n",
      "city number: 69, city name: tual\n",
      "city number: 70, city name: nijmegen\n",
      "city number: 71, city name: alice springs\n",
      "city number: 72, city name: srednekolymsk\n",
      "city number: 73, city name: mar del plata\n",
      "city number: 74, city name: tuktoyaktuk\n",
      "city number: 75, city name: atuona\n",
      "city number: 76, city name: zemlyansk\n",
      "city number: 77, city name: isangel\n",
      "city number: 78, city name: mayo\n",
      "city number: 79, city name: chuy\n",
      "city not found\n",
      "city number: 80, city name: hobart\n",
      "city number: 81, city name: provideniya\n",
      "city number: 82, city name: hailar\n",
      "city number: 83, city name: mecca\n",
      "city number: 84, city name: busselton\n",
      "city number: 85, city name: hithadhoo\n",
      "city number: 86, city name: bharatpur\n",
      "city number: 87, city name: klaksvik\n",
      "city number: 88, city name: launceston\n",
      "city number: 89, city name: san carlos de bariloche\n",
      "city number: 90, city name: jamestown\n",
      "city not found\n",
      "city number: 91, city name: cape town\n",
      "city number: 92, city name: samarai\n",
      "city number: 93, city name: half moon bay\n",
      "city number: 94, city name: hilo\n",
      "city number: 95, city name: kavieng\n",
      "city number: 96, city name: itaiba\n",
      "city number: 97, city name: christchurch\n",
      "city number: 98, city name: khuzhir\n",
      "city number: 99, city name: narsaq\n",
      "city number: 100, city name: urengoy\n",
      "city number: 101, city name: namibe\n",
      "city number: 102, city name: grindavik\n",
      "city number: 103, city name: kaitangata\n",
      "city number: 104, city name: korla\n",
      "city number: 105, city name: bandar-e lengeh\n",
      "city number: 106, city name: qui nhon\n",
      "city number: 107, city name: sawakin\n",
      "city number: 108, city name: belmonte\n",
      "city number: 109, city name: sorong\n",
      "city number: 110, city name: hun\n",
      "city number: 111, city name: naze\n",
      "city not found\n",
      "city number: 112, city name: nikolskoye\n",
      "city number: 113, city name: saskylakh\n",
      "city number: 114, city name: smithers\n",
      "city not found\n",
      "city number: 115, city name: saint-philippe\n",
      "city number: 116, city name: airai\n",
      "city number: 117, city name: hamilton\n",
      "city not found\n",
      "city number: 118, city name: fortuna\n",
      "city number: 119, city name: poykovskiy\n",
      "city number: 120, city name: harlingen\n",
      "city number: 121, city name: kinablangan\n",
      "city not found\n",
      "city not found\n",
      "city number: 122, city name: te anau\n",
      "city number: 123, city name: mkushi\n",
      "city number: 124, city name: kiunga\n",
      "city number: 125, city name: yamada\n",
      "city number: 126, city name: avarua\n",
      "city number: 127, city name: coquimbo\n",
      "city number: 128, city name: broome\n",
      "city number: 129, city name: faanui\n",
      "city number: 130, city name: mizdah\n",
      "city number: 131, city name: castro\n",
      "city number: 132, city name: synya\n",
      "city number: 133, city name: arman\n",
      "city number: 134, city name: umm lajj\n",
      "city number: 135, city name: malanje\n",
      "city number: 136, city name: kolyvan\n",
      "city not found\n",
      "city number: 137, city name: hasaki\n",
      "city number: 138, city name: sao filipe\n",
      "city number: 139, city name: cotonou\n",
      "city not found\n",
      "city number: 140, city name: sawtell\n",
      "city number: 141, city name: praxedis guerrero\n",
      "city number: 142, city name: tomatlan\n",
      "city number: 143, city name: neustrelitz\n",
      "city number: 144, city name: vaini\n",
      "city number: 145, city name: akureyri\n",
      "city number: 146, city name: nurota\n",
      "city number: 147, city name: pevek\n",
      "city number: 148, city name: bambous virieux\n",
      "city number: 149, city name: raudeberg\n",
      "city not found\n",
      "city number: 150, city name: manyana\n",
      "city number: 151, city name: codajas\n",
      "city number: 152, city name: vuktyl\n",
      "city not found\n",
      "city number: 153, city name: rocha\n",
      "city number: 154, city name: asau\n",
      "city number: 155, city name: da nang\n",
      "city number: 156, city name: jiangyou\n",
      "city number: 157, city name: candolim\n",
      "city not found\n",
      "city number: 158, city name: tura\n",
      "city number: 159, city name: ostrovnoy\n",
      "city number: 160, city name: celestun\n",
      "city number: 161, city name: anloga\n",
      "city not found\n",
      "city number: 162, city name: rawson\n",
      "city number: 163, city name: alibag\n",
      "city number: 164, city name: tome\n",
      "city number: 165, city name: son la\n",
      "city number: 166, city name: ilulissat\n",
      "city number: 167, city name: lata\n",
      "city number: 168, city name: tuatapere\n",
      "city number: 169, city name: kahului\n",
      "city number: 170, city name: leshukonskoye\n",
      "city number: 171, city name: dikson\n",
      "city number: 172, city name: merrill\n",
      "city number: 173, city name: itoman\n",
      "city number: 174, city name: taltal\n",
      "city not found\n",
      "city number: 175, city name: kolkwitz\n",
      "city number: 176, city name: esperance\n",
      "city number: 177, city name: puerto ayora\n",
      "city number: 178, city name: novikovo\n",
      "city number: 179, city name: alexandria\n",
      "city number: 180, city name: blagoyevo\n",
      "city number: 181, city name: gandajika\n",
      "city number: 182, city name: baykit\n",
      "city number: 183, city name: puerto quijarro\n",
      "city not found\n",
      "city number: 184, city name: biak\n",
      "city number: 185, city name: belomorsk\n",
      "city number: 186, city name: sept-iles\n",
      "city number: 187, city name: aksu\n",
      "city number: 188, city name: tasiilaq\n",
      "city number: 189, city name: tukrah\n",
      "city number: 190, city name: kodiak\n",
      "city number: 191, city name: khandyga\n",
      "city number: 192, city name: porgera\n",
      "city number: 193, city name: zhigansk\n",
      "city number: 194, city name: gondanglegi\n",
      "city number: 195, city name: morro bay\n",
      "city number: 196, city name: micheweni\n",
      "city number: 197, city name: visnes\n",
      "city number: 198, city name: kirakira\n",
      "city number: 199, city name: torbay\n",
      "city number: 200, city name: sylva\n",
      "city number: 201, city name: new norfolk\n",
      "city not found\n",
      "city number: 202, city name: abu samrah\n",
      "city number: 203, city name: zaria\n",
      "city number: 204, city name: valparaiso\n",
      "city number: 205, city name: kutum\n",
      "city number: 206, city name: bubaque\n",
      "city number: 207, city name: kysyl-syr\n",
      "city number: 208, city name: fujin\n",
      "city number: 209, city name: cabo san lucas\n",
      "city number: 210, city name: cherskiy\n",
      "city number: 211, city name: prince rupert\n",
      "city number: 212, city name: soyo\n"
     ]
    },
    {
     "name": "stdout",
     "output_type": "stream",
     "text": [
      "city number: 213, city name: akyab\n",
      "city number: 214, city name: bonfim\n",
      "city number: 215, city name: khatanga\n",
      "city number: 216, city name: nurlat\n",
      "city number: 217, city name: eureka\n",
      "city number: 218, city name: koumac\n",
      "city not found\n",
      "city number: 219, city name: atasu\n",
      "city number: 220, city name: nisia floresta\n",
      "city number: 221, city name: deputatskiy\n",
      "city number: 222, city name: rorvik\n",
      "city number: 223, city name: huilong\n",
      "city number: 224, city name: catuday\n",
      "city number: 225, city name: labuhan\n",
      "city number: 226, city name: vestmannaeyjar\n",
      "city number: 227, city name: kolosovka\n",
      "city number: 228, city name: san rafael del sur\n",
      "city number: 229, city name: oistins\n",
      "city number: 230, city name: san juan del sur\n",
      "city number: 231, city name: fuling\n",
      "city number: 232, city name: kungurtug\n",
      "city number: 233, city name: kautokeino\n",
      "city number: 234, city name: conceicao do araguaia\n",
      "city number: 235, city name: belaya gora\n",
      "city number: 236, city name: banamba\n",
      "city number: 237, city name: pochutla\n",
      "city number: 238, city name: cap malheureux\n",
      "city number: 239, city name: longyan\n",
      "city number: 240, city name: barcelona\n",
      "city number: 241, city name: grand gaube\n",
      "city number: 242, city name: rossland\n",
      "city number: 243, city name: port moresby\n",
      "city number: 244, city name: kruisfontein\n",
      "city number: 245, city name: tres lagoas\n",
      "city number: 246, city name: milkovo\n",
      "city number: 247, city name: goderich\n",
      "city number: 248, city name: faranah\n",
      "city number: 249, city name: rio tinto\n",
      "city number: 250, city name: ukiah\n",
      "city number: 251, city name: ripoll\n",
      "city number: 252, city name: beringovskiy\n",
      "city number: 253, city name: kieta\n",
      "city number: 254, city name: teya\n",
      "city number: 255, city name: kuusamo\n",
      "city number: 256, city name: muros\n",
      "city number: 257, city name: iqaluit\n",
      "city number: 258, city name: thompson\n",
      "city number: 259, city name: gornyak\n",
      "city number: 260, city name: praya\n",
      "city number: 261, city name: shirokiy\n",
      "city number: 262, city name: goundam\n",
      "city number: 263, city name: talnakh\n",
      "city number: 264, city name: esna\n",
      "city number: 265, city name: herat\n",
      "city not found\n",
      "city number: 266, city name: paraiso\n",
      "city number: 267, city name: praia\n",
      "city number: 268, city name: providencia\n",
      "city number: 269, city name: apac\n",
      "city number: 270, city name: marawi\n",
      "city number: 271, city name: hovd\n",
      "city number: 272, city name: jumla\n",
      "city number: 273, city name: lompoc\n",
      "city number: 274, city name: guaymas\n",
      "city number: 275, city name: necochea\n",
      "city number: 276, city name: makokou\n",
      "city number: 277, city name: jijiga\n",
      "city number: 278, city name: valer\n",
      "city number: 279, city name: ribeira grande\n",
      "city number: 280, city name: hay river\n",
      "city number: 281, city name: kulhudhuffushi\n",
      "city number: 282, city name: zheleznodorozhnyy\n",
      "city number: 283, city name: victoria\n",
      "city number: 284, city name: touros\n",
      "city number: 285, city name: kavaratti\n",
      "city number: 286, city name: ostersund\n",
      "city not found\n",
      "city number: 287, city name: norman wells\n",
      "city number: 288, city name: teofilo otoni\n",
      "city number: 289, city name: iskateley\n",
      "city number: 290, city name: zhezkazgan\n",
      "city not found\n",
      "city number: 291, city name: caravelas\n",
      "city number: 292, city name: adrar\n",
      "city number: 293, city name: azoyu\n",
      "city not found\n",
      "city number: 294, city name: hukuntsi\n",
      "city not found\n",
      "city number: 295, city name: lagoa\n",
      "city number: 296, city name: maihar\n",
      "city number: 297, city name: shelburne\n",
      "city number: 298, city name: artyom\n",
      "city number: 299, city name: vestmanna\n",
      "city number: 300, city name: mitzic\n",
      "city number: 301, city name: pontes e lacerda\n",
      "city number: 302, city name: constitucion\n",
      "city number: 303, city name: ofunato\n",
      "city number: 304, city name: kholtoson\n",
      "city number: 305, city name: clyde river\n",
      "city not found\n",
      "city number: 306, city name: petropavlovsk-kamchatskiy\n",
      "city number: 307, city name: grand forks\n",
      "city number: 308, city name: broken hill\n",
      "city number: 309, city name: ahuimanu\n",
      "city number: 310, city name: decatur\n",
      "city number: 311, city name: livramento\n",
      "city number: 312, city name: chardara\n",
      "city number: 313, city name: piacabucu\n",
      "city number: 314, city name: boende\n",
      "city number: 315, city name: sitka\n",
      "city number: 316, city name: hirara\n",
      "city number: 317, city name: seguin\n",
      "city number: 318, city name: saint-joseph\n",
      "city number: 319, city name: praia da vitoria\n",
      "city number: 320, city name: tulun\n",
      "city number: 321, city name: karaton\n",
      "city number: 322, city name: uyuni\n",
      "city number: 323, city name: roald\n",
      "city number: 324, city name: pisco\n",
      "city number: 325, city name: port blair\n",
      "city number: 326, city name: waipawa\n",
      "city number: 327, city name: plaster rock\n",
      "city number: 328, city name: porbandar\n",
      "city number: 329, city name: yulara\n",
      "city number: 330, city name: riyadh\n",
      "city number: 331, city name: flin flon\n",
      "city number: 332, city name: andenes\n",
      "city number: 333, city name: alba\n",
      "city number: 334, city name: chimoio\n",
      "city number: 335, city name: yeppoon\n",
      "city number: 336, city name: alfred\n",
      "city number: 337, city name: tougue\n",
      "city number: 338, city name: manaure\n",
      "city number: 339, city name: were ilu\n",
      "city number: 340, city name: san patricio\n",
      "city number: 341, city name: boralday\n",
      "city number: 342, city name: neijiang\n",
      "city number: 343, city name: rudbar\n",
      "city number: 344, city name: hofn\n",
      "city number: 345, city name: buala\n",
      "city number: 346, city name: tumpat\n",
      "city not found\n",
      "city number: 347, city name: isabela\n",
      "city number: 348, city name: beboto\n",
      "city number: 349, city name: guerrero negro\n",
      "city number: 350, city name: port keats\n",
      "city number: 351, city name: dunedin\n",
      "city number: 352, city name: abha\n",
      "city number: 353, city name: taebla\n",
      "city number: 354, city name: itarema\n",
      "city number: 355, city name: sibolga\n",
      "city number: 356, city name: kalawit\n",
      "city number: 357, city name: minusinsk\n",
      "city number: 358, city name: birjand\n",
      "city number: 359, city name: urumqi\n",
      "city number: 360, city name: yangjiang\n",
      "city number: 361, city name: yenagoa\n",
      "city number: 362, city name: oksfjord\n",
      "city number: 363, city name: ust-nera\n",
      "city number: 364, city name: hami\n",
      "city number: 365, city name: elko\n",
      "city number: 366, city name: tautira\n",
      "city number: 367, city name: saint-francois\n",
      "city number: 368, city name: obzor\n",
      "city number: 369, city name: harper\n",
      "city number: 370, city name: mollendo\n",
      "city number: 371, city name: kargasok\n",
      "city number: 372, city name: florianopolis\n",
      "city not found\n",
      "city number: 373, city name: leningradskiy\n",
      "city number: 374, city name: bedesa\n",
      "city number: 375, city name: mount isa\n",
      "city number: 376, city name: ponta delgada\n",
      "city number: 377, city name: longyearbyen\n",
      "city number: 378, city name: sovetskoye\n",
      "city number: 379, city name: gasa\n",
      "city not found\n",
      "city number: 380, city name: kalevala\n",
      "city number: 381, city name: athabasca\n",
      "city not found\n",
      "city number: 382, city name: leh\n",
      "city number: 383, city name: peniche\n",
      "city number: 384, city name: beloha\n",
      "city number: 385, city name: koratla\n",
      "city number: 386, city name: salinas\n",
      "city number: 387, city name: tessalit\n",
      "city number: 388, city name: henties bay\n",
      "city number: 389, city name: monrovia\n",
      "city number: 390, city name: lensk\n",
      "city number: 391, city name: zlitan\n",
      "city not found\n",
      "city number: 392, city name: dano\n",
      "city number: 393, city name: utete\n",
      "city not found\n",
      "city number: 394, city name: killarney\n",
      "city number: 395, city name: taoudenni\n",
      "city number: 396, city name: yanaul\n",
      "city number: 397, city name: ankpa\n",
      "city number: 398, city name: altotonga\n",
      "city number: 399, city name: anadyr\n",
      "city number: 400, city name: kapoeta\n",
      "city number: 401, city name: nanortalik\n",
      "city number: 402, city name: esil\n",
      "city number: 403, city name: casino\n",
      "city number: 404, city name: port hardy\n",
      "city number: 405, city name: chernyshevskiy\n",
      "city number: 406, city name: kaeo\n",
      "city number: 407, city name: shenjiamen\n",
      "city number: 408, city name: mirnyy\n",
      "city number: 409, city name: baghdad\n",
      "city number: 410, city name: tondano\n",
      "city number: 411, city name: vao\n",
      "city number: 412, city name: jaciara\n",
      "city number: 413, city name: saint anthony\n",
      "city not found\n",
      "city number: 414, city name: springbok\n",
      "city number: 415, city name: kununurra\n",
      "city number: 416, city name: bethel\n",
      "city number: 417, city name: corinto\n",
      "city number: 418, city name: kirovskiy\n",
      "city number: 419, city name: sant julia de loria\n",
      "city number: 420, city name: charters towers\n",
      "city number: 421, city name: amapa\n",
      "city number: 422, city name: itagi\n",
      "city number: 423, city name: luderitz\n"
     ]
    },
    {
     "name": "stdout",
     "output_type": "stream",
     "text": [
      "city number: 424, city name: dargaville\n",
      "city number: 425, city name: palmer\n",
      "city number: 426, city name: bembereke\n",
      "city number: 427, city name: phalodi\n",
      "city number: 428, city name: whitianga\n",
      "city number: 429, city name: yerbogachen\n",
      "city number: 430, city name: itaituba\n",
      "city number: 431, city name: dingzhou\n",
      "city number: 432, city name: olafsvik\n",
      "city number: 433, city name: talagang\n",
      "city number: 434, city name: huancayo\n",
      "city number: 435, city name: ornskoldsvik\n",
      "city number: 436, city name: los llanos de aridane\n",
      "city number: 437, city name: isla mujeres\n",
      "city number: 438, city name: yuanping\n",
      "city number: 439, city name: todos santos\n",
      "city number: 440, city name: parrita\n",
      "city number: 441, city name: gamba\n",
      "city number: 442, city name: tevriz\n",
      "city number: 443, city name: qaqortoq\n",
      "city not found\n",
      "city number: 444, city name: bathsheba\n",
      "city number: 445, city name: sinnamary\n",
      "city number: 446, city name: manokwari\n",
      "city number: 447, city name: mocuba\n",
      "city number: 448, city name: yar-sale\n",
      "city number: 449, city name: adeje\n",
      "city number: 450, city name: phimai\n",
      "city not found\n",
      "city number: 451, city name: reinosa\n",
      "city number: 452, city name: maningrida\n",
      "city number: 453, city name: huarmey\n",
      "city number: 454, city name: havre-saint-pierre\n",
      "city number: 455, city name: acari\n",
      "city number: 456, city name: cascais\n",
      "city number: 457, city name: srivardhan\n",
      "city not found\n",
      "city number: 458, city name: solton\n",
      "city number: 459, city name: alakurtti\n",
      "city number: 460, city name: mananara\n",
      "city number: 461, city name: tairua\n",
      "city number: 462, city name: slave lake\n",
      "city number: 463, city name: birao\n",
      "city number: 464, city name: armizonskoye\n",
      "city number: 465, city name: puerto princesa\n",
      "city number: 466, city name: mount gambier\n",
      "city number: 467, city name: vaitape\n",
      "city number: 468, city name: curiti\n",
      "city not found\n",
      "city number: 469, city name: norrtalje\n",
      "city number: 470, city name: barra do garcas\n",
      "city number: 471, city name: honningsvag\n",
      "city number: 472, city name: jatai\n",
      "city number: 473, city name: radcliff\n",
      "city not found\n",
      "city number: 474, city name: berezovyy\n",
      "city number: 475, city name: adamas\n",
      "city number: 476, city name: batagay-alyta\n",
      "city number: 477, city name: bilibino\n",
      "city number: 478, city name: ewa beach\n",
      "city number: 479, city name: bengkulu\n",
      "city number: 480, city name: sarab\n",
      "city number: 481, city name: iberia\n",
      "city number: 482, city name: hammerfest\n",
      "city number: 483, city name: lagos\n",
      "city number: 484, city name: barcelos\n",
      "city number: 485, city name: aykhal\n",
      "city number: 486, city name: pierre\n",
      "city number: 487, city name: jiangyan\n",
      "city number: 488, city name: dudinka\n",
      "city not found\n",
      "city number: 489, city name: vardadzor\n",
      "city number: 490, city name: homer\n",
      "city number: 491, city name: nikitinskiy\n",
      "city number: 492, city name: saint-georges\n",
      "city number: 493, city name: zhanakorgan\n",
      "city number: 494, city name: pacifica\n",
      "city number: 495, city name: chippewa falls\n",
      "city number: 496, city name: abu kamal\n",
      "city number: 497, city name: falkenstein\n",
      "city number: 498, city name: hwange\n",
      "city number: 499, city name: camacha\n",
      "city not found\n",
      "city number: 500, city name: juye\n",
      "city number: 501, city name: sao francisco\n",
      "city number: 502, city name: voi\n",
      "city number: 503, city name: muroto\n",
      "city number: 504, city name: fairbanks\n",
      "city number: 505, city name: hualmay\n",
      "city number: 506, city name: san cristobal\n",
      "city number: 507, city name: vardo\n",
      "city number: 508, city name: san ramon\n",
      "city number: 509, city name: ghanzi\n",
      "city not found\n",
      "city number: 510, city name: richards bay\n",
      "city number: 511, city name: toccoa\n",
      "city number: 512, city name: oytal\n",
      "city number: 513, city name: olot\n",
      "city number: 514, city name: otavi\n",
      "city number: 515, city name: santiago del estero\n",
      "city number: 516, city name: boda\n",
      "city number: 517, city name: ancud\n",
      "city not found\n",
      "city number: 518, city name: mogzon\n",
      "city number: 519, city name: davila\n",
      "city number: 520, city name: maceio\n",
      "city number: 521, city name: krasnoborsk\n",
      "city number: 522, city name: mongoumba\n",
      "city number: 523, city name: tucuma\n",
      "city number: 524, city name: koutsouras\n",
      "city number: 525, city name: gizo\n",
      "city number: 526, city name: dingle\n",
      "city number: 527, city name: inuvik\n",
      "city number: 528, city name: anchorage\n",
      "city number: 529, city name: sile\n",
      "city number: 530, city name: distraccion\n",
      "city number: 531, city name: kloulklubed\n",
      "city number: 532, city name: bousse\n",
      "city number: 533, city name: kropotkin\n",
      "city number: 534, city name: klamath falls\n",
      "city number: 535, city name: longmont\n",
      "city number: 536, city name: juba\n",
      "city number: 537, city name: jizan\n",
      "city number: 538, city name: arlit\n",
      "city number: 539, city name: golitsyno\n",
      "city number: 540, city name: pacific grove\n",
      "city number: 541, city name: tari\n",
      "city number: 542, city name: comodoro rivadavia\n",
      "city number: 543, city name: mokolo\n",
      "city number: 544, city name: soubre\n",
      "city number: 545, city name: powell river\n",
      "city number: 546, city name: khromtau\n",
      "city not found\n",
      "city number: 547, city name: araouane\n",
      "city number: 548, city name: lorengau\n",
      "city number: 549, city name: tiznit\n",
      "city not found\n",
      "city number: 550, city name: north bend\n",
      "city number: 551, city name: ejigbo\n",
      "city number: 552, city name: salta\n",
      "city number: 553, city name: shimoda\n",
      "city number: 554, city name: vanderhoof\n",
      "city number: 555, city name: saint michael\n",
      "city number: 556, city name: carbonia\n",
      "city number: 557, city name: vigrestad\n",
      "city number: 558, city name: caala\n",
      "city number: 559, city name: tynda\n",
      "city number: 560, city name: wernigerode\n",
      "city number: 561, city name: beaupre\n",
      "city number: 562, city name: boa vista\n",
      "city number: 563, city name: bonthe\n",
      "city number: 564, city name: esmeralda\n",
      "city number: 565, city name: konstantinovka\n",
      "city not found\n",
      "city number: 566, city name: segovia\n",
      "city number: 567, city name: fukuma\n",
      "city number: 568, city name: villamontes\n",
      "city number: 569, city name: wanning\n"
     ]
    }
   ],
   "source": [
    "url = \"http://api.openweathermap.org/data/2.5/weather?\"\n",
    "\n",
    "temp = []\n",
    "humidity = []\n",
    "cloudiness = []\n",
    "wind_speed = []\n",
    "town = []\n",
    "lat = []\n",
    "\n",
    "count = 0\n",
    "\n",
    "for city in cities:\n",
    "    target_url = f\"{url}appid={weather_api_key}&q={city}&units=imperial\"\n",
    "    response = requests.get(target_url).json()\n",
    "    try:\n",
    "        temperature = response['main']['temp']\n",
    "        humid = response['main']['humidity']\n",
    "        cloudy = response['clouds']['all']\n",
    "        windy = response['wind']['speed']\n",
    "        latitude = response['coord']['lat']\n",
    "        temp.append(temperature)\n",
    "        humidity.append(humid)\n",
    "        cloudiness.append(cloudy)\n",
    "        wind_speed.append(windy)\n",
    "        town.append(city)\n",
    "        lat.append(latitude)\n",
    "        count += 1\n",
    "        print(f\"city number: {count}, city name: {city}\")\n",
    "    except KeyError:\n",
    "        print(\"city not found\")\n",
    "        \n"
   ]
  },
  {
   "cell_type": "code",
   "execution_count": 65,
   "metadata": {},
   "outputs": [
    {
     "data": {
      "text/html": [
       "<div>\n",
       "<style scoped>\n",
       "    .dataframe tbody tr th:only-of-type {\n",
       "        vertical-align: middle;\n",
       "    }\n",
       "\n",
       "    .dataframe tbody tr th {\n",
       "        vertical-align: top;\n",
       "    }\n",
       "\n",
       "    .dataframe thead th {\n",
       "        text-align: right;\n",
       "    }\n",
       "</style>\n",
       "<table border=\"1\" class=\"dataframe\">\n",
       "  <thead>\n",
       "    <tr style=\"text-align: right;\">\n",
       "      <th></th>\n",
       "      <th>City</th>\n",
       "      <th>Temperature</th>\n",
       "      <th>Humidity</th>\n",
       "      <th>Cloudiness</th>\n",
       "      <th>Wind Speed (mph)</th>\n",
       "      <th>Latitude</th>\n",
       "    </tr>\n",
       "  </thead>\n",
       "  <tbody>\n",
       "    <tr>\n",
       "      <th>0</th>\n",
       "      <td>meulaboh</td>\n",
       "      <td>82.11</td>\n",
       "      <td>76</td>\n",
       "      <td>46</td>\n",
       "      <td>3.85</td>\n",
       "      <td>4.14</td>\n",
       "    </tr>\n",
       "    <tr>\n",
       "      <th>1</th>\n",
       "      <td>port lincoln</td>\n",
       "      <td>64.17</td>\n",
       "      <td>85</td>\n",
       "      <td>39</td>\n",
       "      <td>4.70</td>\n",
       "      <td>-34.73</td>\n",
       "    </tr>\n",
       "    <tr>\n",
       "      <th>2</th>\n",
       "      <td>mpika</td>\n",
       "      <td>60.51</td>\n",
       "      <td>93</td>\n",
       "      <td>25</td>\n",
       "      <td>1.50</td>\n",
       "      <td>-11.83</td>\n",
       "    </tr>\n",
       "    <tr>\n",
       "      <th>3</th>\n",
       "      <td>vostok</td>\n",
       "      <td>-13.58</td>\n",
       "      <td>88</td>\n",
       "      <td>0</td>\n",
       "      <td>5.39</td>\n",
       "      <td>46.49</td>\n",
       "    </tr>\n",
       "    <tr>\n",
       "      <th>4</th>\n",
       "      <td>bredasdorp</td>\n",
       "      <td>66.11</td>\n",
       "      <td>77</td>\n",
       "      <td>0</td>\n",
       "      <td>6.93</td>\n",
       "      <td>-34.53</td>\n",
       "    </tr>\n",
       "    <tr>\n",
       "      <th>5</th>\n",
       "      <td>portland</td>\n",
       "      <td>54.21</td>\n",
       "      <td>88</td>\n",
       "      <td>75</td>\n",
       "      <td>4.56</td>\n",
       "      <td>45.52</td>\n",
       "    </tr>\n",
       "    <tr>\n",
       "      <th>6</th>\n",
       "      <td>westport</td>\n",
       "      <td>45.46</td>\n",
       "      <td>93</td>\n",
       "      <td>90</td>\n",
       "      <td>25.28</td>\n",
       "      <td>41.14</td>\n",
       "    </tr>\n",
       "    <tr>\n",
       "      <th>7</th>\n",
       "      <td>bulnes</td>\n",
       "      <td>92.62</td>\n",
       "      <td>20</td>\n",
       "      <td>0</td>\n",
       "      <td>11.18</td>\n",
       "      <td>-36.74</td>\n",
       "    </tr>\n",
       "    <tr>\n",
       "      <th>8</th>\n",
       "      <td>severo-kurilsk</td>\n",
       "      <td>17.74</td>\n",
       "      <td>91</td>\n",
       "      <td>100</td>\n",
       "      <td>42.77</td>\n",
       "      <td>50.68</td>\n",
       "    </tr>\n",
       "    <tr>\n",
       "      <th>9</th>\n",
       "      <td>east london</td>\n",
       "      <td>77.31</td>\n",
       "      <td>85</td>\n",
       "      <td>0</td>\n",
       "      <td>0.51</td>\n",
       "      <td>-33.02</td>\n",
       "    </tr>\n",
       "    <tr>\n",
       "      <th>10</th>\n",
       "      <td>kapaa</td>\n",
       "      <td>72.00</td>\n",
       "      <td>59</td>\n",
       "      <td>89</td>\n",
       "      <td>5.01</td>\n",
       "      <td>22.08</td>\n",
       "    </tr>\n",
       "    <tr>\n",
       "      <th>11</th>\n",
       "      <td>digby</td>\n",
       "      <td>37.99</td>\n",
       "      <td>68</td>\n",
       "      <td>99</td>\n",
       "      <td>7.00</td>\n",
       "      <td>44.62</td>\n",
       "    </tr>\n",
       "    <tr>\n",
       "      <th>12</th>\n",
       "      <td>mataura</td>\n",
       "      <td>61.00</td>\n",
       "      <td>84</td>\n",
       "      <td>99</td>\n",
       "      <td>1.86</td>\n",
       "      <td>-46.19</td>\n",
       "    </tr>\n",
       "    <tr>\n",
       "      <th>13</th>\n",
       "      <td>la ronge</td>\n",
       "      <td>26.37</td>\n",
       "      <td>95</td>\n",
       "      <td>100</td>\n",
       "      <td>4.85</td>\n",
       "      <td>55.10</td>\n",
       "    </tr>\n",
       "    <tr>\n",
       "      <th>14</th>\n",
       "      <td>albany</td>\n",
       "      <td>37.45</td>\n",
       "      <td>98</td>\n",
       "      <td>90</td>\n",
       "      <td>4.70</td>\n",
       "      <td>42.60</td>\n",
       "    </tr>\n",
       "    <tr>\n",
       "      <th>15</th>\n",
       "      <td>port alfred</td>\n",
       "      <td>64.99</td>\n",
       "      <td>97</td>\n",
       "      <td>0</td>\n",
       "      <td>1.99</td>\n",
       "      <td>-33.59</td>\n",
       "    </tr>\n",
       "    <tr>\n",
       "      <th>16</th>\n",
       "      <td>tres passos</td>\n",
       "      <td>91.00</td>\n",
       "      <td>44</td>\n",
       "      <td>0</td>\n",
       "      <td>1.99</td>\n",
       "      <td>-27.46</td>\n",
       "    </tr>\n",
       "    <tr>\n",
       "      <th>17</th>\n",
       "      <td>qaanaaq</td>\n",
       "      <td>-13.38</td>\n",
       "      <td>46</td>\n",
       "      <td>0</td>\n",
       "      <td>4.99</td>\n",
       "      <td>77.48</td>\n",
       "    </tr>\n",
       "    <tr>\n",
       "      <th>18</th>\n",
       "      <td>hobyo</td>\n",
       "      <td>78.60</td>\n",
       "      <td>79</td>\n",
       "      <td>98</td>\n",
       "      <td>17.72</td>\n",
       "      <td>5.35</td>\n",
       "    </tr>\n",
       "    <tr>\n",
       "      <th>19</th>\n",
       "      <td>avera</td>\n",
       "      <td>53.53</td>\n",
       "      <td>47</td>\n",
       "      <td>1</td>\n",
       "      <td>11.41</td>\n",
       "      <td>33.19</td>\n",
       "    </tr>\n",
       "  </tbody>\n",
       "</table>\n",
       "</div>"
      ],
      "text/plain": [
       "              City  Temperature  Humidity  Cloudiness  Wind Speed (mph)  \\\n",
       "0         meulaboh        82.11        76          46              3.85   \n",
       "1     port lincoln        64.17        85          39              4.70   \n",
       "2            mpika        60.51        93          25              1.50   \n",
       "3           vostok       -13.58        88           0              5.39   \n",
       "4       bredasdorp        66.11        77           0              6.93   \n",
       "5         portland        54.21        88          75              4.56   \n",
       "6         westport        45.46        93          90             25.28   \n",
       "7           bulnes        92.62        20           0             11.18   \n",
       "8   severo-kurilsk        17.74        91         100             42.77   \n",
       "9      east london        77.31        85           0              0.51   \n",
       "10           kapaa        72.00        59          89              5.01   \n",
       "11           digby        37.99        68          99              7.00   \n",
       "12         mataura        61.00        84          99              1.86   \n",
       "13        la ronge        26.37        95         100              4.85   \n",
       "14          albany        37.45        98          90              4.70   \n",
       "15     port alfred        64.99        97           0              1.99   \n",
       "16     tres passos        91.00        44           0              1.99   \n",
       "17         qaanaaq       -13.38        46           0              4.99   \n",
       "18           hobyo        78.60        79          98             17.72   \n",
       "19           avera        53.53        47           1             11.41   \n",
       "\n",
       "    Latitude  \n",
       "0       4.14  \n",
       "1     -34.73  \n",
       "2     -11.83  \n",
       "3      46.49  \n",
       "4     -34.53  \n",
       "5      45.52  \n",
       "6      41.14  \n",
       "7     -36.74  \n",
       "8      50.68  \n",
       "9     -33.02  \n",
       "10     22.08  \n",
       "11     44.62  \n",
       "12    -46.19  \n",
       "13     55.10  \n",
       "14     42.60  \n",
       "15    -33.59  \n",
       "16    -27.46  \n",
       "17     77.48  \n",
       "18      5.35  \n",
       "19     33.19  "
      ]
     },
     "execution_count": 65,
     "metadata": {},
     "output_type": "execute_result"
    }
   ],
   "source": [
    "weather_data = pd.DataFrame({\"City\": town,\n",
    "                            \"Temperature\": temp,\n",
    "                            \"Humidity\": humidity,\n",
    "                            \"Cloudiness\": cloudiness,\n",
    "                            \"Wind Speed (mph)\": wind_speed,\n",
    "                            \"Latitude\": lat})\n",
    "\n",
    "weather_data.head(20)"
   ]
  },
  {
   "cell_type": "markdown",
   "metadata": {},
   "source": [
    "### Convert Raw Data to DataFrame\n",
    "* Export the city data into a .csv.\n",
    "* Display the DataFrame"
   ]
  },
  {
   "cell_type": "code",
   "execution_count": 68,
   "metadata": {},
   "outputs": [],
   "source": [
    "#df.to_csv(r'Path where you want to store the exported CSV file\\File Name.csv')\n",
    "weather_data.to_csv(r\"../output_data\\weather.csv\")"
   ]
  },
  {
   "cell_type": "markdown",
   "metadata": {},
   "source": [
    "### Plotting the Data\n",
    "* Use proper labeling of the plots using plot titles (including date of analysis) and axes labels.\n",
    "* Save the plotted figures as .pngs."
   ]
  },
  {
   "cell_type": "markdown",
   "metadata": {},
   "source": [
    "#### Latitude vs. Temperature Plot"
   ]
  },
  {
   "cell_type": "code",
   "execution_count": 14,
   "metadata": {},
   "outputs": [
    {
     "data": {
      "text/plain": [
       "Text(0, 0.5, 'Temperature (F)')"
      ]
     },
     "execution_count": 14,
     "metadata": {},
     "output_type": "execute_result"
    },
    {
     "data": {
      "image/png": "[encoded data removed]",
      "text/plain": [
       "<Figure size 432x288 with 1 Axes>"
      ]
     },
     "metadata": {
      "needs_background": "light"
     },
     "output_type": "display_data"
    }
   ],
   "source": [
    "lat = weather_data[\"Latitude\"]\n",
    "temp = weather_data[\"Temperature\"]\n",
    "plt.scatter(lat,temp)\n",
    "plt.title(\"City Latitude vs. Temperature (F) 1/25/2020\")\n",
    "plt.xlabel(\"Latitude\")\n",
    "plt.ylabel(\"Temperature (F)\")"
   ]
  },
  {
   "cell_type": "markdown",
   "metadata": {},
   "source": [
    "#### Latitude vs. Humidity Plot"
   ]
  },
  {
   "cell_type": "code",
   "execution_count": 16,
   "metadata": {},
   "outputs": [
    {
     "data": {
      "text/plain": [
       "Text(0.5, 1.0, 'City Latitude vs. Humidity 1/25/2020')"
      ]
     },
     "execution_count": 16,
     "metadata": {},
     "output_type": "execute_result"
    },
    {
     "data": {
      "image/png": "[encoded data removed]",
      "text/plain": [
       "<Figure size 432x288 with 1 Axes>"
      ]
     },
     "metadata": {
      "needs_background": "light"
     },
     "output_type": "display_data"
    }
   ],
   "source": [
    "humidity = weather_data['Humidity']\n",
    "plt.scatter(lat,humidity)\n",
    "plt.xlabel(\"Latitude\")\n",
    "plt.ylabel(\"Humidity\")\n",
    "plt.title(\"City Latitude vs. Humidity 1/25/2020\")"
   ]
  },
  {
   "cell_type": "markdown",
   "metadata": {},
   "source": [
    "#### Latitude vs. Cloudiness Plot"
   ]
  },
  {
   "cell_type": "code",
   "execution_count": 20,
   "metadata": {},
   "outputs": [
    {
     "data": {
      "text/plain": [
       "Text(0, 0.5, 'Cloudiness')"
      ]
     },
     "execution_count": 20,
     "metadata": {},
     "output_type": "execute_result"
    },
    {
     "data": {
      "image/png": "[encoded data removed]",
      "text/plain": [
       "<Figure size 432x288 with 1 Axes>"
      ]
     },
     "metadata": {
      "needs_background": "light"
     },
     "output_type": "display_data"
    }
   ],
   "source": [
    "cloudy = weather_data[\"Cloudiness\"]\n",
    "plt.scatter(lat,cloudy)\n",
    "plt.title(\"City Latitude vs. Cloudiness 1/25/2020\")\n",
    "plt.xlabel(\"Latitude\")\n",
    "plt.ylabel(\"Cloudiness\")"
   ]
  },
  {
   "cell_type": "markdown",
   "metadata": {},
   "source": [
    "#### Latitude vs. Wind Speed Plot"
   ]
  },
  {
   "cell_type": "code",
   "execution_count": 21,
   "metadata": {},
   "outputs": [
    {
     "data": {
      "text/plain": [
       "Text(0, 0.5, 'Wind Speed (mph)')"
      ]
     },
     "execution_count": 21,
     "metadata": {},
     "output_type": "execute_result"
    },
    {
     "data": {
      "image/png": "[encoded data removed]",
      "text/plain": [
       "<Figure size 432x288 with 1 Axes>"
      ]
     },
     "metadata": {
      "needs_background": "light"
     },
     "output_type": "display_data"
    }
   ],
   "source": [
    "wind = weather_data['Wind Speed (mph)']\n",
    "plt.scatter(lat,wind)\n",
    "plt.title('City Latitude vs. Wind Speed (1/25/2020)')\n",
    "plt.xlabel(\"Latitude\")\n",
    "plt.ylabel(\"Wind Speed (mph)\")"
   ]
  },
  {
   "cell_type": "markdown",
   "metadata": {},
   "source": [
    "## Linear Regression"
   ]
  },
  {
   "cell_type": "code",
   "execution_count": 108,
   "metadata": {},
   "outputs": [],
   "source": [
    "# OPTIONAL: Create a function to create Linear Regression plots\n"
   ]
  },
  {
   "cell_type": "code",
   "execution_count": 26,
   "metadata": {},
   "outputs": [
    {
     "data": {
      "text/html": [
       "<div>\n",
       "<style scoped>\n",
       "    .dataframe tbody tr th:only-of-type {\n",
       "        vertical-align: middle;\n",
       "    }\n",
       "\n",
       "    .dataframe tbody tr th {\n",
       "        vertical-align: top;\n",
       "    }\n",
       "\n",
       "    .dataframe thead th {\n",
       "        text-align: right;\n",
       "    }\n",
       "</style>\n",
       "<table border=\"1\" class=\"dataframe\">\n",
       "  <thead>\n",
       "    <tr style=\"text-align: right;\">\n",
       "      <th></th>\n",
       "      <th>City</th>\n",
       "      <th>Temperature</th>\n",
       "      <th>Humidity</th>\n",
       "      <th>Cloudiness</th>\n",
       "      <th>Wind Speed (mph)</th>\n",
       "      <th>Latitude</th>\n",
       "    </tr>\n",
       "  </thead>\n",
       "  <tbody>\n",
       "    <tr>\n",
       "      <th>0</th>\n",
       "      <td>meulaboh</td>\n",
       "      <td>82.42</td>\n",
       "      <td>76</td>\n",
       "      <td>83</td>\n",
       "      <td>5.01</td>\n",
       "      <td>4.14</td>\n",
       "    </tr>\n",
       "    <tr>\n",
       "      <th>3</th>\n",
       "      <td>vostok</td>\n",
       "      <td>-13.92</td>\n",
       "      <td>89</td>\n",
       "      <td>2</td>\n",
       "      <td>5.08</td>\n",
       "      <td>46.49</td>\n",
       "    </tr>\n",
       "    <tr>\n",
       "      <th>5</th>\n",
       "      <td>portland</td>\n",
       "      <td>48.69</td>\n",
       "      <td>93</td>\n",
       "      <td>90</td>\n",
       "      <td>8.41</td>\n",
       "      <td>45.52</td>\n",
       "    </tr>\n",
       "    <tr>\n",
       "      <th>6</th>\n",
       "      <td>westport</td>\n",
       "      <td>42.10</td>\n",
       "      <td>93</td>\n",
       "      <td>90</td>\n",
       "      <td>11.41</td>\n",
       "      <td>41.14</td>\n",
       "    </tr>\n",
       "    <tr>\n",
       "      <th>8</th>\n",
       "      <td>severo-kurilsk</td>\n",
       "      <td>16.99</td>\n",
       "      <td>91</td>\n",
       "      <td>100</td>\n",
       "      <td>44.07</td>\n",
       "      <td>50.68</td>\n",
       "    </tr>\n",
       "  </tbody>\n",
       "</table>\n",
       "</div>"
      ],
      "text/plain": [
       "             City  Temperature  Humidity  Cloudiness  Wind Speed (mph)  \\\n",
       "0        meulaboh        82.42        76          83              5.01   \n",
       "3          vostok       -13.92        89           2              5.08   \n",
       "5        portland        48.69        93          90              8.41   \n",
       "6        westport        42.10        93          90             11.41   \n",
       "8  severo-kurilsk        16.99        91         100             44.07   \n",
       "\n",
       "   Latitude  \n",
       "0      4.14  \n",
       "3     46.49  \n",
       "5     45.52  \n",
       "6     41.14  \n",
       "8     50.68  "
      ]
     },
     "execution_count": 26,
     "metadata": {},
     "output_type": "execute_result"
    }
   ],
   "source": [
    "# Create Northern and Southern Hemisphere DataFrames\n",
    "\n",
    "northern = weather_data.loc[weather_data[\"Latitude\"] >= 0, [\"City\", \"Temperature\", \"Humidity\", \"Cloudiness\", \"Wind Speed (mph)\", \"Latitude\"]]\n",
    "\n",
    "northern.head()"
   ]
  },
  {
   "cell_type": "code",
   "execution_count": 25,
   "metadata": {},
   "outputs": [
    {
     "data": {
      "text/html": [
       "<div>\n",
       "<style scoped>\n",
       "    .dataframe tbody tr th:only-of-type {\n",
       "        vertical-align: middle;\n",
       "    }\n",
       "\n",
       "    .dataframe tbody tr th {\n",
       "        vertical-align: top;\n",
       "    }\n",
       "\n",
       "    .dataframe thead th {\n",
       "        text-align: right;\n",
       "    }\n",
       "</style>\n",
       "<table border=\"1\" class=\"dataframe\">\n",
       "  <thead>\n",
       "    <tr style=\"text-align: right;\">\n",
       "      <th></th>\n",
       "      <th>City</th>\n",
       "      <th>Temperature</th>\n",
       "      <th>Humidity</th>\n",
       "      <th>Cloudiness</th>\n",
       "      <th>Wind Speed (mph)</th>\n",
       "      <th>Latitude</th>\n",
       "    </tr>\n",
       "  </thead>\n",
       "  <tbody>\n",
       "    <tr>\n",
       "      <th>1</th>\n",
       "      <td>port lincoln</td>\n",
       "      <td>63.34</td>\n",
       "      <td>91</td>\n",
       "      <td>17</td>\n",
       "      <td>5.88</td>\n",
       "      <td>-34.73</td>\n",
       "    </tr>\n",
       "    <tr>\n",
       "      <th>2</th>\n",
       "      <td>mpika</td>\n",
       "      <td>63.54</td>\n",
       "      <td>98</td>\n",
       "      <td>7</td>\n",
       "      <td>2.93</td>\n",
       "      <td>-11.83</td>\n",
       "    </tr>\n",
       "    <tr>\n",
       "      <th>4</th>\n",
       "      <td>bredasdorp</td>\n",
       "      <td>71.02</td>\n",
       "      <td>64</td>\n",
       "      <td>2</td>\n",
       "      <td>19.46</td>\n",
       "      <td>-34.53</td>\n",
       "    </tr>\n",
       "    <tr>\n",
       "      <th>7</th>\n",
       "      <td>bulnes</td>\n",
       "      <td>93.67</td>\n",
       "      <td>18</td>\n",
       "      <td>0</td>\n",
       "      <td>12.15</td>\n",
       "      <td>-36.74</td>\n",
       "    </tr>\n",
       "    <tr>\n",
       "      <th>9</th>\n",
       "      <td>east london</td>\n",
       "      <td>77.00</td>\n",
       "      <td>78</td>\n",
       "      <td>19</td>\n",
       "      <td>4.70</td>\n",
       "      <td>-33.02</td>\n",
       "    </tr>\n",
       "  </tbody>\n",
       "</table>\n",
       "</div>"
      ],
      "text/plain": [
       "           City  Temperature  Humidity  Cloudiness  Wind Speed (mph)  Latitude\n",
       "1  port lincoln        63.34        91          17              5.88    -34.73\n",
       "2         mpika        63.54        98           7              2.93    -11.83\n",
       "4    bredasdorp        71.02        64           2             19.46    -34.53\n",
       "7        bulnes        93.67        18           0             12.15    -36.74\n",
       "9   east london        77.00        78          19              4.70    -33.02"
      ]
     },
     "execution_count": 25,
     "metadata": {},
     "output_type": "execute_result"
    }
   ],
   "source": [
    "southern = weather_data.loc[weather_data[\"Latitude\"] < 0, [\"City\", \"Temperature\", \"Humidity\", \"Cloudiness\", \"Wind Speed (mph)\", \"Latitude\"]]\n",
    "southern.head()"
   ]
  },
  {
   "cell_type": "markdown",
   "metadata": {},
   "source": [
    "####  Northern Hemisphere - Max Temp vs. Latitude Linear Regression"
   ]
  },
  {
   "cell_type": "code",
   "execution_count": 43,
   "metadata": {},
   "outputs": [
    {
     "name": "stdout",
     "output_type": "stream",
     "text": [
      "The r-squared is: -0.8774609409594673\n"
     ]
    },
    {
     "data": {
      "image/png": "[encoded data removed]",
      "text/plain": [
       "<Figure size 432x288 with 1 Axes>"
      ]
     },
     "metadata": {
      "needs_background": "light"
     },
     "output_type": "display_data"
    }
   ],
   "source": [
    "x = northern[\"Latitude\"]\n",
    "y = northern[\"Temperature\"]\n",
    "(slope, intercept, rvalue, pvalue, stderr) = linregress(x, y)\n",
    "regress_values = x * slope + intercept\n",
    "line = \"y = \" + str(round(slope,2)) + \"x + \" + str(round(intercept,2))\n",
    "plt.scatter(x, y)\n",
    "plt.plot(x, regress_values, \"r-\")\n",
    "plt.annotate(line,(5,-20), fontsize=15, color='red')\n",
    "plt.xlabel(\"Latitude\")\n",
    "plt.ylabel(\"Temperature (F)\")\n",
    "plt.title(\"Northern Hemisphere - Temperature vs. Latitude\")\n",
    "print(f\"The r-squared is: {rvalue}\")"
   ]
  },
  {
   "cell_type": "markdown",
   "metadata": {},
   "source": [
    "####  Southern Hemisphere - Max Temp vs. Latitude Linear Regression"
   ]
  },
  {
   "cell_type": "code",
   "execution_count": 42,
   "metadata": {},
   "outputs": [
    {
     "name": "stdout",
     "output_type": "stream",
     "text": [
      "The r-squared is: 0.5523538498175655\n"
     ]
    },
    {
     "data": {
      "image/png": "[encoded data removed]",
      "text/plain": [
       "<Figure size 432x288 with 1 Axes>"
      ]
     },
     "metadata": {
      "needs_background": "light"
     },
     "output_type": "display_data"
    }
   ],
   "source": [
    "xs = southern[\"Latitude\"]\n",
    "ys = southern[\"Temperature\"]\n",
    "(slope, intercept, rvalue, pvalue, stderr) = linregress(xs, ys)\n",
    "regress_values = xs * slope + intercept\n",
    "line = \"y = \" + str(round(slope,2)) + \"x + \" + str(round(intercept,2))\n",
    "plt.scatter(xs, ys)\n",
    "plt.plot(xs, regress_values, \"r-\")\n",
    "plt.annotate(line,(-50,90), fontsize=15, color='red')\n",
    "plt.xlabel(\"Latitude\")\n",
    "plt.ylabel(\"Temperature (F)\")\n",
    "plt.title(\"Southern Hemisphere - Temperature vs. Latitude\")\n",
    "print(f\"The r-squared is: {rvalue}\")"
   ]
  },
  {
   "cell_type": "markdown",
   "metadata": {},
   "source": [
    "####  Northern Hemisphere - Humidity (%) vs. Latitude Linear Regression"
   ]
  },
  {
   "cell_type": "code",
   "execution_count": 46,
   "metadata": {},
   "outputs": [
    {
     "name": "stdout",
     "output_type": "stream",
     "text": [
      "The r-squared is: 0.5352281857546799\n"
     ]
    },
    {
     "data": {
      "image/png": "[encoded data removed]",
      "text/plain": [
       "<Figure size 432x288 with 1 Axes>"
      ]
     },
     "metadata": {
      "needs_background": "light"
     },
     "output_type": "display_data"
    }
   ],
   "source": [
    "y_h = northern[\"Humidity\"]\n",
    "(slope, intercept, rvalue, pvalue, stderr) = linregress(x, y_h)\n",
    "regress_values = x * slope + intercept\n",
    "line = \"y = \" + str(round(slope,2)) + \"x + \" + str(round(intercept,2))\n",
    "plt.scatter(x, y_h)\n",
    "plt.plot(x, regress_values, \"r-\")\n",
    "plt.annotate(line,(40,20), fontsize=15, color='red')\n",
    "plt.xlabel(\"Latitude\")\n",
    "plt.ylabel(\"Humidity %\")\n",
    "plt.title(\"Northern Hemisphere - Humidity % vs. Latitude\")\n",
    "print(f\"The r-squared is: {rvalue}\")"
   ]
  },
  {
   "cell_type": "markdown",
   "metadata": {},
   "source": [
    "####  Southern Hemisphere - Humidity (%) vs. Latitude Linear Regression"
   ]
  },
  {
   "cell_type": "code",
   "execution_count": 48,
   "metadata": {},
   "outputs": [
    {
     "name": "stdout",
     "output_type": "stream",
     "text": [
      "The r-squared is: 0.09551869555519096\n"
     ]
    },
    {
     "data": {
      "image/png": "[encoded data removed]",
      "text/plain": [
       "<Figure size 432x288 with 1 Axes>"
      ]
     },
     "metadata": {
      "needs_background": "light"
     },
     "output_type": "display_data"
    }
   ],
   "source": [
    "y_hs = southern[\"Humidity\"]\n",
    "(slope, intercept, rvalue, pvalue, stderr) = linregress(xs, y_hs)\n",
    "regress_values = xs * slope + intercept\n",
    "line = \"y = \" + str(round(slope,2)) + \"x + \" + str(round(intercept,2))\n",
    "plt.scatter(xs, y_hs)\n",
    "plt.plot(xs, regress_values, \"r-\")\n",
    "plt.annotate(line,(-50,20), fontsize=15, color='red')\n",
    "plt.xlabel(\"Latitude\")\n",
    "plt.ylabel(\"Humidity %\")\n",
    "plt.title(\"Southern Hemisphere - Humidity % vs. Latitude\")\n",
    "print(f\"The r-squared is: {rvalue}\")"
   ]
  },
  {
   "cell_type": "markdown",
   "metadata": {},
   "source": [
    "####  Northern Hemisphere - Cloudiness (%) vs. Latitude Linear Regression"
   ]
  },
  {
   "cell_type": "code",
   "execution_count": 49,
   "metadata": {},
   "outputs": [
    {
     "name": "stdout",
     "output_type": "stream",
     "text": [
      "The r-squared is: 0.2768853009550506\n"
     ]
    },
    {
     "data": {
      "image/png": "[encoded data removed]",
      "text/plain": [
       "<Figure size 432x288 with 1 Axes>"
      ]
     },
     "metadata": {
      "needs_background": "light"
     },
     "output_type": "display_data"
    }
   ],
   "source": [
    "y_c = northern[\"Cloudiness\"]\n",
    "(slope, intercept, rvalue, pvalue, stderr) = linregress(x, y_c)\n",
    "regress_values = x * slope + intercept\n",
    "line = \"y = \" + str(round(slope,2)) + \"x + \" + str(round(intercept,2))\n",
    "plt.scatter(x, y_c)\n",
    "plt.plot(x, regress_values, \"r-\")\n",
    "plt.annotate(line,(40,20), fontsize=15, color='red')\n",
    "plt.xlabel(\"Latitude\")\n",
    "plt.ylabel(\"Cloudiness\")\n",
    "plt.title(\"Northern Hemisphere - Cloudiness(%) vs. Latitude\")\n",
    "print(f\"The r-squared is: {rvalue}\")"
   ]
  },
  {
   "cell_type": "markdown",
   "metadata": {},
   "source": [
    "####  Southern Hemisphere - Cloudiness (%) vs. Latitude Linear Regression"
   ]
  },
  {
   "cell_type": "code",
   "execution_count": 59,
   "metadata": {},
   "outputs": [
    {
     "name": "stdout",
     "output_type": "stream",
     "text": [
      "The r-squared is: 0.2017873495902192\n"
     ]
    },
    {
     "data": {
      "image/png": "[encoded data removed]",
      "text/plain": [
       "<Figure size 432x288 with 1 Axes>"
      ]
     },
     "metadata": {
      "needs_background": "light"
     },
     "output_type": "display_data"
    }
   ],
   "source": [
    "y_cs = southern[\"Cloudiness\"]\n",
    "(slope, intercept, rvalue, pvalue, stderr) = linregress(xs, y_cs)\n",
    "regress_values = xs * slope + intercept\n",
    "line = \"y = \" + str(round(slope,2)) + \"x + \" + str(round(intercept,2))\n",
    "plt.scatter(xs, y_cs)\n",
    "plt.plot(xs, regress_values, \"r-\")\n",
    "plt.annotate(line,(-50,20), fontsize=15, color='red')\n",
    "plt.xlabel(\"Latitude\")\n",
    "plt.ylabel(\"Cloudiness\")\n",
    "plt.title(\"Southern Hemisphere - Cloudiness(%) vs. Latitude\")\n",
    "print(f\"The r-squared is: {rvalue}\")"
   ]
  },
  {
   "cell_type": "markdown",
   "metadata": {},
   "source": [
    "####  Northern Hemisphere - Wind Speed (mph) vs. Latitude Linear Regression"
   ]
  },
  {
   "cell_type": "code",
   "execution_count": 58,
   "metadata": {},
   "outputs": [
    {
     "name": "stdout",
     "output_type": "stream",
     "text": [
      "The r-squared is: 0.09810165029323792\n"
     ]
    },
    {
     "data": {
      "image/png": "[encoded data removed]",
      "text/plain": [
       "<Figure size 432x288 with 1 Axes>"
      ]
     },
     "metadata": {
      "needs_background": "light"
     },
     "output_type": "display_data"
    }
   ],
   "source": [
    "y_w = northern[\"Wind Speed (mph)\"]\n",
    "(slope, intercept, rvalue, pvalue, stderr) = linregress(x, y_w)\n",
    "regress_values = x * slope + intercept\n",
    "line = \"y = \" + str(round(slope,2)) + \"x + \" + str(round(intercept,2))\n",
    "plt.scatter(x, y_w)\n",
    "plt.plot(x, regress_values, \"r-\")\n",
    "plt.annotate(line,(40,30), fontsize=15, color='red')\n",
    "plt.xlabel(\"Latitude\")\n",
    "plt.ylabel(\"Wind Speed\")\n",
    "plt.title(\"Northern Hemisphere - Wind Speed (mph) vs. Latitude\")\n",
    "print(f\"The r-squared is: {rvalue}\")"
   ]
  },
  {
   "cell_type": "markdown",
   "metadata": {},
   "source": [
    "####  Southern Hemisphere - Wind Speed (mph) vs. Latitude Linear Regression"
   ]
  },
  {
   "cell_type": "code",
   "execution_count": 57,
   "metadata": {},
   "outputs": [
    {
     "name": "stdout",
     "output_type": "stream",
     "text": [
      "The r-squared is: -0.20297444798273181\n"
     ]
    },
    {
     "data": {
      "image/png": "[encoded data removed]",
      "text/plain": [
       "<Figure size 432x288 with 1 Axes>"
      ]
     },
     "metadata": {
      "needs_background": "light"
     },
     "output_type": "display_data"
    }
   ],
   "source": [
    "y_ws = southern[\"Wind Speed (mph)\"]\n",
    "(slope, intercept, rvalue, pvalue, stderr) = linregress(xs, y_ws)\n",
    "regress_values = xs * slope + intercept\n",
    "line = \"y = \" + str(round(slope,2)) + \"x + \" + str(round(intercept,2))\n",
    "plt.scatter(xs, y_ws)\n",
    "plt.plot(xs, regress_values, \"r-\")\n",
    "plt.annotate(line,(-40,30), fontsize=15, color='red')\n",
    "plt.xlabel(\"Latitude\")\n",
    "plt.ylabel(\"Wind Speed\")\n",
    "plt.title(\"Southern Hemisphere - Wind Speed(mph) vs. Latitude\")\n",
    "print(f\"The r-squared is: {rvalue}\")"
   ]
  },
  {
   "cell_type": "code",
   "execution_count": null,
   "metadata": {},
   "outputs": [],
   "source": []
  }
 ],
 "metadata": {
  "anaconda-cloud": {},
  "kernel_info": {
   "name": "python3"
  },
  "kernelspec": {
   "display_name": "Python 3",
   "language": "python",
   "name": "python3"
  },
  "language_info": {
   "codemirror_mode": {
    "name": "ipython",
    "version": 3
   },
   "file_extension": ".py",
   "mimetype": "text/x-python",
   "name": "python",
   "nbconvert_exporter": "python",
   "pygments_lexer": "ipython3",
   "version": "3.6.9"
  },
  "latex_envs": {
   "LaTeX_envs_menu_present": true,
   "autoclose": false,
   "autocomplete": true,
   "bibliofile": "biblio.bib",
   "cite_by": "apalike",
   "current_citInitial": 1,
   "eqLabelWithNumbers": true,
   "eqNumInitial": 1,
   "hotkeys": {
    "equation": "Ctrl-E",
    "itemize": "Ctrl-I"
   },
   "labels_anchors": false,
   "latex_user_defs": false,
   "report_style_numbering": false,
   "user_envs_cfg": false
  },
  "nteract": {
   "version": "0.12.3"
  }
 },
 "nbformat": 4,
 "nbformat_minor": 2
}
